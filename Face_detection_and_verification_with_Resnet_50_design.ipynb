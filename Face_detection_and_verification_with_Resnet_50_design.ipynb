{
  "nbformat": 4,
  "nbformat_minor": 0,
  "metadata": {
    "accelerator": "GPU",
    "colab": {
      "provenance": [],
      "collapsed_sections": [],
      "machine_shape": "hm",
      "include_colab_link": true
    },
    "kernelspec": {
      "display_name": "Python 3",
      "language": "python",
      "name": "python3"
    },
    "language_info": {
      "codemirror_mode": {
        "name": "ipython",
        "version": 3
      },
      "file_extension": ".py",
      "mimetype": "text/x-python",
      "name": "python",
      "nbconvert_exporter": "python",
      "pygments_lexer": "ipython3",
      "version": "3.8.8"
    }
  },
  "cells": [
    {
      "cell_type": "markdown",
      "metadata": {
        "id": "view-in-github",
        "colab_type": "text"
      },
      "source": [
        "<a href=\"https://colab.research.google.com/github/neelpawarcmu/deep-learning-course-projects/blob/main/Face_detection_and_verification_with_Resnet_50_design.ipynb\" target=\"_parent\"><img src=\"https://colab.research.google.com/assets/colab-badge.svg\" alt=\"Open In Colab\"/></a>"
      ]
    },
    {
      "cell_type": "markdown",
      "source": [
        "# Summary\n",
        "\n",
        "Here we build a Resnet-50 model from scratch using research methodologies and architectural details mentioned in [this](https://arxiv.org/pdf/1512.03385.pdf) paper, for face classification on a 400,000 image dataset. We further use the embedded states of the trained model for a face verification task on a similarly sized dataset."
      ],
      "metadata": {
        "id": "3cHtkZmvswz1"
      }
    },
    {
      "cell_type": "markdown",
      "source": [
        "## Imports and configs"
      ],
      "metadata": {
        "id": "xjVW4dT-te5d"
      }
    },
    {
      "cell_type": "code",
      "metadata": {
        "id": "k3z8ulNBxjvU"
      },
      "source": [
        "from google.colab import drive\n",
        "from IPython.display import clear_output\n",
        "drive.mount('/content/drive')\n",
        "!mkdir /content/drive/MyDrive/IDL-Kaggle/hw2/trained_models"
      ],
      "execution_count": null,
      "outputs": []
    },
    {
      "cell_type": "code",
      "metadata": {
        "id": "yKxL2xLt1IYC"
      },
      "source": [
        "!nvidia-smi"
      ],
      "execution_count": null,
      "outputs": []
    },
    {
      "cell_type": "code",
      "metadata": {
        "id": "FdrDe8J4j8tm"
      },
      "source": [
        "#from google.colab import drive\n",
        "#drive.mount('/content/drive')\n",
        "#%cd '/content/drive/MyDrive/'\n",
        "#!mkdir IDL-Kaggle\n",
        "#!mkdir IDL-Kaggle/hw2\n",
        "#!mkdir IDL-Kaggle/hw2/face-detection\n",
        "#!mkdir IDL-Kaggle/hw2/face-verification"
      ],
      "execution_count": null,
      "outputs": []
    },
    {
      "cell_type": "markdown",
      "metadata": {
        "id": "m2wGamNUN9oZ"
      },
      "source": [
        "## Kaggle download and unzip"
      ]
    },
    {
      "cell_type": "code",
      "metadata": {
        "id": "XHBz48iFGxFX"
      },
      "source": [
        "#Intall Kaggle API and create kaggle directory\n",
        "!pip3 install kaggle==1.5.6\n",
        "!mkdir .kaggle\n",
        "\n",
        "#This data is used to login  into your Kaggle account\n",
        "import json\n",
        "token = {\"username\":\"neelpawarcmu\",\"key\":\"5e1b7eca0660a26aeb64eee16d6e6b68\"}\n",
        "with open('/content/.kaggle/kaggle.json', 'w') as file:\n",
        "    json.dump(token, file)\n"
      ],
      "execution_count": null,
      "outputs": []
    },
    {
      "cell_type": "code",
      "metadata": {
        "id": "1DoOMO4wG0Zz"
      },
      "source": [
        "!chmod 600 /content/.kaggle/kaggle.json\n",
        "!cp /content/.kaggle/kaggle.json /root/.kaggle/\n",
        "!kaggle config set -n path -v /content"
      ],
      "execution_count": null,
      "outputs": []
    },
    {
      "cell_type": "code",
      "metadata": {
        "id": "qawfU_BZdFza"
      },
      "source": [
        "!chmod 600 /content/.kaggle/kaggle.json\n",
        "!cp /content/.kaggle/kaggle.json /root/.kaggle/\n",
        "!kaggle config set -n path -v /content"
      ],
      "execution_count": null,
      "outputs": []
    },
    {
      "cell_type": "code",
      "metadata": {
        "id": "r3gAsK7iG2f3"
      },
      "source": [
        "# download main classification data\n",
        "!kaggle competitions download -c idl-fall21-hw2p2s1-face-classification --force\n",
        "!kaggle competitions download -c idl-fall21-hw2p2s2-face-verification --force"
      ],
      "execution_count": null,
      "outputs": []
    },
    {
      "cell_type": "code",
      "metadata": {
        "id": "pDiYbhZlJgzN"
      },
      "source": [
        "# download toy classification data\n",
        "!kaggle competitions download -c idl-fall21-hw2p2s1-face-classification-toy --force"
      ],
      "execution_count": null,
      "outputs": []
    },
    {
      "cell_type": "code",
      "metadata": {
        "id": "UYH_KLbsG8B2"
      },
      "source": [
        "# unzip main data\n",
        "from IPython.display import clear_output \n",
        "!unzip /content/competitions/idl-fall21-hw2p2s1-face-classification/idl-fall21-hw2p2s1-face-classification.zip -d main\n",
        "!unzip competitions/idl-fall21-hw2p2s2-face-verification/idl-fall21-hw2p2s2-face-verification.zip -d main/verification\n",
        "\n",
        "clear_output()"
      ],
      "execution_count": null,
      "outputs": []
    },
    {
      "cell_type": "code",
      "metadata": {
        "id": "Lhid2BkmKDfh"
      },
      "source": [
        "# unzip toy data\n",
        "!unzip /content/competitions/idl-fall21-hw2p2s1-face-classification-toy/idl-fall21-hw2p2s1-face-classification-toy.zip -d toy\n",
        "\n",
        "clear_output()"
      ],
      "execution_count": null,
      "outputs": []
    },
    {
      "cell_type": "markdown",
      "metadata": {
        "id": "tgEz60YRCt7N"
      },
      "source": [
        "## Imports"
      ]
    },
    {
      "cell_type": "code",
      "metadata": {
        "id": "3tzw2ZKcCt7O"
      },
      "source": [
        "import os\n",
        "import numpy as np\n",
        "from PIL import Image\n",
        "\n",
        "import torch\n",
        "import torchvision   \n",
        "import torch.nn as nn\n",
        "import torch.nn.functional as F\n",
        "from torch.utils.data import Dataset, DataLoader\n",
        "import matplotlib.pyplot as plt\n",
        "import pandas as pd"
      ],
      "execution_count": null,
      "outputs": []
    },
    {
      "cell_type": "code",
      "metadata": {
        "id": "5iSaHLvONQ6Y"
      },
      "source": [
        "!mkdir saved_datasets"
      ],
      "execution_count": null,
      "outputs": []
    },
    {
      "cell_type": "markdown",
      "metadata": {
        "id": "RCPQm-dICt7c"
      },
      "source": [
        "## Torchvision DataSet and DataLoader"
      ]
    },
    {
      "cell_type": "code",
      "metadata": {
        "id": "9clT9T_KA4MH"
      },
      "source": [
        "def loadData(nametag, filemap, load, save, batch_size):\n",
        "  #filemap is a hash map that stores path names for saving and loading datasets and dataloaders\n",
        "  if load:\n",
        "    train_dataset = torch.load( filemap['save_path'] + 'train_dataset.pt')\n",
        "    train_dataloader = torch.load( filemap['save_path'] + 'train_dataloader.pt')\n",
        "    val_dataset = torch.load( filemap['save_path'] + 'val_dataset.pt')\n",
        "    val_dataloader = torch.load( filemap['save_path'] + 'val_dataloader.pt')\n",
        "  else:\n",
        "    train_dataset = torchvision.datasets.ImageFolder(root = filemap['root_train_folder'], \n",
        "                                                     transform= torchvision.transforms.Compose([\n",
        "                                                                                    torchvision.transforms.RandomRotation(20),\n",
        "                                                                                    torchvision.transforms.RandomHorizontalFlip(0.5),\n",
        "                                                                                    torchvision.transforms.ColorJitter(0.5, 0.5, 0.5),\n",
        "                                                                                    torchvision.transforms.ToTensor(), \n",
        "                                                                                    torchvision.transforms.Normalize(mean=(0.485, 0.456, 0.406), std=(0.229, 0.224, 0.225))          \n",
        "                                                     ]))\n",
        "                                                     \n",
        "    train_dataloader = torch.utils.data.DataLoader(train_dataset, batch_size = batch_size, shuffle = True, num_workers = 8)\n",
        "    val_dataset = torchvision.datasets.ImageFolder(root = filemap['root_val_folder'] , transform= torchvision.transforms.Compose([\n",
        "                                                                                    torchvision.transforms.ToTensor(), \n",
        "                                                                                    torchvision.transforms.Normalize(mean=(0.485, 0.456, 0.406), std=(0.229, 0.224, 0.225))                   \n",
        "                                                     ]))\n",
        "    \n",
        "    val_dataloader = torch.utils.data.DataLoader(val_dataset, batch_size = batch_size, shuffle = False, num_workers = 8)\n",
        "    \n",
        "  if save:\n",
        "    torch.save(train_dataset,  filemap['save_path'] + 'train_dataset.pt')\n",
        "    torch.save(train_dataloader,  filemap['save_path'] + 'train_dataloader.pt')\n",
        "    torch.save(val_dataset,  filemap['save_path'] + 'val_dataset.pt')\n",
        "    torch.save(val_dataloader,  filemap['save_path'] + 'val_dataloader.pt')\n",
        "\n",
        "  print('---------------------------------')\n",
        "  print(nametag)\n",
        "  print('---------------------------------')\n",
        "  print('train data:', train_dataset.__len__(), len(train_dataset.classes))\n",
        "  print('val data:', val_dataset.__len__(), len(val_dataset.classes))\n",
        "  print('train dataloader:', len(train_dataloader))\n",
        "  print('val dataloader:', len(val_dataloader))\n",
        "  print('\\n')\n",
        "  \n",
        "  return {\n",
        "      't_set': train_dataset, \n",
        "      't_loader': train_dataloader,\n",
        "      'v_set': val_dataset,\n",
        "      'v_loader': val_dataloader\n",
        "      }"
      ],
      "execution_count": null,
      "outputs": []
    },
    {
      "cell_type": "code",
      "metadata": {
        "id": "JErt6J4GDN7J"
      },
      "source": [
        "#hash maps that store specific path names for saving and loading datasets and dataloaders\n",
        "!mkdir main\n",
        "!mkdir toy\n",
        "#old path: face_detection/toy_dataset/\n",
        "toy_paths = {\n",
        "    'save_path' : 'saved_datasets/toy_', \n",
        "    'root_train_folder' : 'toy/train_data',\n",
        "    'root_val_folder' : 'toy/val_data',\n",
        "}\n",
        "\n",
        "main_paths = {\n",
        "    'save_path' : 'saved_datasets/main_',\n",
        "    'root_train_folder' : 'main/train_data',\n",
        "    'root_val_folder' : 'main/val_data',\n",
        "}"
      ],
      "execution_count": null,
      "outputs": []
    },
    {
      "cell_type": "code",
      "metadata": {
        "colab": {
          "base_uri": "https://localhost:8080/"
        },
        "id": "5ubOZ4xmG_yw",
        "outputId": "7dd8debf-f4d5-4953-baed-a5827d6344ee"
      },
      "source": [
        "# create datasets and dataloaders by calling our loadData function\n",
        "!mkdir saved_datasets\n",
        "toymap = loadData('Toy classification data', toy_paths, load=False, save=True, batch_size=128)\n",
        "mainmap = loadData('Main classification data', main_paths, load=False, save=True, batch_size=128)"
      ],
      "execution_count": null,
      "outputs": [
        {
          "output_type": "stream",
          "name": "stdout",
          "text": [
            "mkdir: cannot create directory ‘saved_datasets’: File exists\n"
          ]
        },
        {
          "output_type": "stream",
          "name": "stderr",
          "text": [
            "/usr/local/lib/python3.7/dist-packages/torch/utils/data/dataloader.py:481: UserWarning: This DataLoader will create 8 worker processes in total. Our suggested max number of worker in current system is 2, which is smaller than what this DataLoader is going to create. Please be aware that excessive worker creation might get DataLoader running slow or even freeze, lower the worker number to avoid potential slowness/freeze if necessary.\n",
            "  cpuset_checked))\n"
          ]
        },
        {
          "output_type": "stream",
          "name": "stdout",
          "text": [
            "---------------------------------\n",
            "Toy classification data\n",
            "---------------------------------\n",
            "train data: 39841 4000\n",
            "val data: 8000 4000\n",
            "train dataloader: 312\n",
            "val dataloader: 63\n",
            "\n",
            "\n",
            "---------------------------------\n",
            "Main classification data\n",
            "---------------------------------\n",
            "train data: 380638 4000\n",
            "val data: 8000 4000\n",
            "train dataloader: 2974\n",
            "val dataloader: 63\n",
            "\n",
            "\n"
          ]
        }
      ]
    },
    {
      "cell_type": "code",
      "metadata": {
        "id": "fo00FVAiscqX"
      },
      "source": [
        "dataset_in_use = 'main'\n",
        "#dataset_in_use = 'toy'\n",
        "\n",
        "if dataset_in_use == 'toy':\n",
        "  train_dataset = toymap['t_set']\n",
        "  train_dataloader = toymap['t_loader']\n",
        "  val_dataset = toymap['v_set']\n",
        "  val_dataloader = toymap['v_loader']\n",
        "else:\n",
        "  train_dataset = mainmap['t_set']\n",
        "  train_dataloader = mainmap['t_loader']\n",
        "  val_dataset = mainmap['v_set']\n",
        "  val_dataloader = mainmap['v_loader']"
      ],
      "execution_count": null,
      "outputs": []
    },
    {
      "cell_type": "code",
      "metadata": {
        "colab": {
          "base_uri": "https://localhost:8080/"
        },
        "id": "wLsXNixm8TN2",
        "outputId": "1cf15063-5140-4989-b46c-5d083376d0dd"
      },
      "source": [
        "print('--------------Active data---------------')\n",
        "print('train data:', train_dataset.__len__(), len(train_dataset.classes))\n",
        "print('val data:', val_dataset.__len__(), len(val_dataset.classes))\n",
        "print('train dataloader:', len(train_dataloader))\n",
        "print('val dataloader:', len(val_dataloader))\n",
        "print('----------------------------------------')"
      ],
      "execution_count": null,
      "outputs": [
        {
          "output_type": "stream",
          "name": "stdout",
          "text": [
            "--------------Active data---------------\n",
            "train data: 380638 4000\n",
            "val data: 8000 4000\n",
            "train dataloader: 2974\n",
            "val dataloader: 63\n",
            "----------------------------------------\n"
          ]
        }
      ]
    },
    {
      "cell_type": "markdown",
      "metadata": {
        "id": "JVYd9fpaCt7g"
      },
      "source": [
        "## Residual Block\n",
        "\n",
        "Resnet: https://arxiv.org/pdf/1512.03385.pdf\n",
        "\n",
        "Here is a basic usage of shortcut in Resnet"
      ]
    },
    {
      "cell_type": "markdown",
      "metadata": {
        "id": "INz2K4QHYuen"
      },
      "source": [
        "###Resnet 50"
      ]
    },
    {
      "cell_type": "code",
      "metadata": {
        "id": "S7F7jjBe2JAM"
      },
      "source": [
        "class Bottleneck(nn.Sequential):\n",
        "  def __init__(self, input_channel_size, output_channel_size, kernel_size=1, stride=1):\n",
        "    super().__init__()\n",
        "    self.expansion = expansion = 4\n",
        "    self.conv1 = nn.Conv2d(input_channel_size, output_channel_size, kernel_size=1, stride=1, padding=1, bias=False)\n",
        "    self.bn1 = nn.BatchNorm2d(output_channel_size)\n",
        "    self.conv2 = nn.Conv2d(output_channel_size, output_channel_size, kernel_size=3, stride=stride, padding=1, bias=False)\n",
        "    self.bn2 = nn.BatchNorm2d(output_channel_size)\n",
        "    self.relu = nn.ReLU()\n",
        "    self.conv3 = nn.Conv2d(output_channel_size, output_channel_size * expansion, kernel_size=1, stride=1, bias=False)\n",
        "    self.bn3 = nn.BatchNorm2d(output_channel_size * expansion)\n",
        "    \n",
        "    if stride == 1 or input_channel_size == expansion * output_channel_size:\n",
        "        self.shortcut = nn.Identity()\n",
        "    else:\n",
        "        self.shortcut = nn.Sequential(nn.Conv2d(input_channel_size, output_channel_size * expansion, kernel_size=1, stride=stride),\n",
        "                                     nn.BatchNorm2d(output_channel_size * expansion))\n",
        "\n",
        "        \n",
        "  def forward(self, x):\n",
        "    print(x.shape)\n",
        "    out = self.conv1(x)\n",
        "    out = self.bn1(out)\n",
        "    out = self.relu(out)\n",
        "    print(out.shape)\n",
        "    out = self.conv2(x)\n",
        "    out = self.bn2(out)\n",
        "    out = self.relu(out)\n",
        "    print(out.shape)\n",
        "    out = self.conv3(x)\n",
        "    out = self.bn3(out)\n",
        "    print(out.shape)\n",
        "    \n",
        "    shortcut = self.shortcut(x)\n",
        "    return self.relu(out + shortcut)\n",
        "\n",
        "\n",
        "class Resnet50(nn.Module):\n",
        "    def __init__(self, num_blocks, hiddens, num_features, num_classes, feat_dim=512):\n",
        "        super().__init__()\n",
        "        self.expansion = expansion = 4\n",
        "        self.in_channel = 64\n",
        "\n",
        "        self.conv1 = nn.Conv2d(num_features, 64, kernel_size=3, stride=1, padding=1, bias=False)\n",
        "        self.bn1 = nn.BatchNorm2d(64)\n",
        "    \n",
        "        self.block1 = self.stackBlocks(Bottleneck, hiddens[0], num_blocks[0], stride = 1)\n",
        "        self.block2 = self.stackBlocks(Bottleneck, hiddens[1], num_blocks[1], stride = 2)\n",
        "        self.block3 = self.stackBlocks(Bottleneck, hiddens[2], num_blocks[2], stride = 2)\n",
        "        self.block4 = self.stackBlocks(Bottleneck, hiddens[3], num_blocks[3], stride = 2)\n",
        "        \n",
        "        self.relu = nn.ReLU()\n",
        "        self.mean_pool = nn.AdaptiveAvgPool2d((1,1))\n",
        "        self.flatten = nn.Flatten()\n",
        "        self.linear = nn.Linear(512*self.expansion, num_classes)\n",
        "    \n",
        "    def forward(self, x):\n",
        "        out = self.relu(self.bn1(self.conv1(x)))\n",
        "        out = self.block4(self.block3(self.block2(self.block1(out))))\n",
        "                          \n",
        "        out = self.mean_pool(out)\n",
        "\n",
        "        out = self.flatten(out)\n",
        "        out = self.linear(out)\n",
        "        \n",
        "        return out\n",
        "            \n",
        "    def stackBlocks(self, block, out_channel, num_blocks, stride):\n",
        "        strides = [stride] + [1]*(num_blocks-1)\n",
        "        layers = []\n",
        "        for stride in strides:\n",
        "            layers.append(block(self.in_channel, out_channel, stride))\n",
        "            self.in_channel = out_channel * self.expansion\n",
        "        return nn.Sequential(*layers)"
      ],
      "execution_count": null,
      "outputs": []
    },
    {
      "cell_type": "code",
      "metadata": {
        "id": "xtmTgIS3Ct7k"
      },
      "source": [
        "numEpochs = 200\n",
        "in_features = 3 # RGB channels\n",
        "\n",
        "learningRate = 0.1\n",
        "weightDecay = 5e-5\n",
        "\n",
        "num_classes = len(train_dataset.classes)\n",
        "\n",
        "device = torch.device('cuda' if torch.cuda.is_available() else 'cpu')\n",
        "\n",
        "network = Resnet50(num_blocks = [3, 4, 6, 3], \n",
        "                   hiddens = [64,128,256,512], \n",
        "                   num_features = 3,\n",
        "                   num_classes = 4000)\n",
        "\n",
        "network = network.to(device)\n",
        "\n",
        "criterion = nn.CrossEntropyLoss()\n",
        "optimizer = torch.optim.SGD(network.parameters(), \n",
        "                            lr=learningRate, \n",
        "                            weight_decay=weightDecay, \n",
        "                            momentum=0.9\n",
        "                            )\n",
        "scheduler = torch.optim.lr_scheduler.ReduceLROnPlateau(optimizer, \n",
        "                                                       mode=\"min\", \n",
        "                                                       factor=0.9, \n",
        "                                                       patience=1, \n",
        "                                                       verbose=True\n",
        "                                                       )\n",
        "network"
      ],
      "execution_count": null,
      "outputs": []
    },
    {
      "cell_type": "code",
      "metadata": {
        "colab": {
          "base_uri": "https://localhost:8080/"
        },
        "id": "W2HYR9PsYsR0",
        "outputId": "1c953360-08e5-4d4f-ebcb-ce7ce787a169"
      },
      "source": [
        "modelPath = '/content/drive/MyDrive/IDL-Kaggle/hw2/trained_models/'\n",
        "epochToLoad = 'epoch-86.pt'#0-indexed\n",
        "loadModel = False\n",
        "if loadModel:\n",
        "  network.load_state_dict(torch.load(modelPath+epochToLoad))\n",
        "  print(\"keys matched\")"
      ],
      "execution_count": null,
      "outputs": [
        {
          "output_type": "stream",
          "name": "stdout",
          "text": [
            "keys matched\n"
          ]
        }
      ]
    },
    {
      "cell_type": "code",
      "metadata": {
        "colab": {
          "base_uri": "https://localhost:8080/"
        },
        "id": "ch22uXv-Ct7k",
        "scrolled": true,
        "outputId": "322bbd4f-7bb9-4547-bdc6-0f7a447ede15"
      },
      "source": [
        "# Train!\n",
        "\n",
        "for epoch in range(numEpochs):\n",
        "    \n",
        "    # Train\n",
        "    network.train()\n",
        "    avg_loss = 0.0\n",
        "    for batch_num, (x, y) in enumerate(train_dataloader):\n",
        "        optimizer.zero_grad()\n",
        "        \n",
        "        x, y = x.to(device), y.to(device)\n",
        "\n",
        "        outputs = network(x)\n",
        "        outputs = outputs.to(device)\n",
        "\n",
        "        loss = criterion(outputs, y.long())\n",
        "        loss.backward()\n",
        "        optimizer.step()\n",
        "\n",
        "        avg_loss += loss.item()\n",
        "\n",
        "        if batch_num % 80 == 79:\n",
        "            print('Epoch: {}\\tBatch: {}\\tAvg-Loss: {:.4f}'.format(epoch, batch_num+1, avg_loss/400))\n",
        "            avg_loss = 0.0\n",
        "        \n",
        "    # Validate\n",
        "    network.eval()\n",
        "    num_correct = 0\n",
        "    val_loss = 0.0\n",
        "    for batch_num, (x, y) in enumerate(val_dataloader):\n",
        "        x, y = x.to(device), y.to(device)\n",
        "        outputs = network(x)\n",
        "        outputs = outputs.to(device)\n",
        "        num_correct += (torch.argmax(outputs, axis=1) == y).sum().item()\n",
        "    \n",
        "        val_loss_batch = criterion(outputs, y.long())\n",
        "        val_loss += val_loss_batch.item()\n",
        "    scheduler.step(val_loss)\n",
        "        \n",
        "    #print('val_loss', val_loss.item())\n",
        "    print('LR = ', optimizer.param_groups[0]['lr'])\n",
        "\n",
        "    modelPath = '/content/drive/MyDrive/IDL-Kaggle/hw2/trained_models'\n",
        "    torch.save(network.state_dict(), os.path.join(modelPath, f'epoch-{epoch}.pt'))\n",
        "    \n",
        "    \n",
        "    print('Epoch: {}, Validation Accuracy: {:.4f}'.format(epoch, num_correct / len(val_dataset)))"
      ],
      "execution_count": null,
      "outputs": [
        {
          "output_type": "stream",
          "name": "stderr",
          "text": [
            "/usr/local/lib/python3.7/dist-packages/torch/utils/data/dataloader.py:481: UserWarning: This DataLoader will create 8 worker processes in total. Our suggested max number of worker in current system is 2, which is smaller than what this DataLoader is going to create. Please be aware that excessive worker creation might get DataLoader running slow or even freeze, lower the worker number to avoid potential slowness/freeze if necessary.\n",
            "  cpuset_checked))\n",
            "/usr/local/lib/python3.7/dist-packages/torch/nn/functional.py:718: UserWarning: Named tensors and all their associated APIs are an experimental feature and subject to change. Please do not use them for anything important until they are released as stable. (Triggered internally at  /pytorch/c10/core/TensorImpl.h:1156.)\n",
            "  return torch.max_pool2d(input, kernel_size, stride, padding, dilation, ceil_mode)\n"
          ]
        },
        {
          "output_type": "stream",
          "name": "stdout",
          "text": [
            "Epoch: 0\tBatch: 80\tAvg-Loss: 1.2482\n",
            "Epoch: 0\tBatch: 160\tAvg-Loss: 1.4926\n",
            "Epoch: 0\tBatch: 240\tAvg-Loss: 1.3845\n",
            "Epoch: 0\tBatch: 320\tAvg-Loss: 1.3095\n",
            "Epoch: 0\tBatch: 400\tAvg-Loss: 1.2611\n",
            "Epoch: 0\tBatch: 480\tAvg-Loss: 1.2137\n",
            "Epoch: 0\tBatch: 560\tAvg-Loss: 1.3385\n",
            "Epoch: 0\tBatch: 640\tAvg-Loss: 1.2227\n",
            "Epoch: 0\tBatch: 720\tAvg-Loss: 1.1676\n",
            "Epoch: 0\tBatch: 800\tAvg-Loss: 1.1343\n",
            "Epoch: 0\tBatch: 880\tAvg-Loss: 1.1028\n",
            "Epoch: 0\tBatch: 960\tAvg-Loss: 1.0637\n",
            "Epoch: 0\tBatch: 1040\tAvg-Loss: 1.0447\n",
            "Epoch: 0\tBatch: 1120\tAvg-Loss: 1.0112\n",
            "Epoch: 0\tBatch: 1200\tAvg-Loss: 0.9953\n",
            "Epoch: 0\tBatch: 1280\tAvg-Loss: 0.9806\n",
            "Epoch: 0\tBatch: 1360\tAvg-Loss: 0.9552\n",
            "Epoch: 0\tBatch: 1440\tAvg-Loss: 0.9312\n",
            "Epoch: 0\tBatch: 1520\tAvg-Loss: 0.9086\n",
            "Epoch: 0\tBatch: 1600\tAvg-Loss: 0.8936\n",
            "Epoch: 0\tBatch: 1680\tAvg-Loss: 0.8787\n",
            "Epoch: 0\tBatch: 1760\tAvg-Loss: 0.8545\n",
            "Epoch: 0\tBatch: 1840\tAvg-Loss: 0.8534\n",
            "Epoch: 0\tBatch: 1920\tAvg-Loss: 0.8326\n",
            "Epoch: 0\tBatch: 2000\tAvg-Loss: 0.8196\n",
            "Epoch: 0\tBatch: 2080\tAvg-Loss: 0.8056\n",
            "Epoch: 0\tBatch: 2160\tAvg-Loss: 0.7962\n",
            "Epoch: 0\tBatch: 2240\tAvg-Loss: 0.7719\n",
            "Epoch: 0\tBatch: 2320\tAvg-Loss: 0.7708\n",
            "Epoch: 0\tBatch: 2400\tAvg-Loss: 0.7479\n",
            "Epoch: 0\tBatch: 2480\tAvg-Loss: 0.7466\n",
            "Epoch: 0\tBatch: 2560\tAvg-Loss: 0.7311\n",
            "Epoch: 0\tBatch: 2640\tAvg-Loss: 0.7324\n",
            "Epoch: 0\tBatch: 2720\tAvg-Loss: 0.7206\n",
            "Epoch: 0\tBatch: 2800\tAvg-Loss: 0.7079\n",
            "Epoch: 0\tBatch: 2880\tAvg-Loss: 0.6929\n",
            "Epoch: 0\tBatch: 2960\tAvg-Loss: 0.6917\n",
            "LR =  0.1\n",
            "Epoch: 0, Validation Accuracy: 0.2744\n",
            "Epoch: 1\tBatch: 80\tAvg-Loss: 0.6029\n",
            "Epoch: 1\tBatch: 160\tAvg-Loss: 0.6058\n",
            "Epoch: 1\tBatch: 240\tAvg-Loss: 0.5984\n",
            "Epoch: 1\tBatch: 320\tAvg-Loss: 0.5972\n",
            "Epoch: 1\tBatch: 400\tAvg-Loss: 0.5982\n",
            "Epoch: 1\tBatch: 480\tAvg-Loss: 0.5941\n",
            "Epoch: 1\tBatch: 560\tAvg-Loss: 0.5849\n",
            "Epoch: 1\tBatch: 640\tAvg-Loss: 0.5812\n",
            "Epoch: 1\tBatch: 720\tAvg-Loss: 0.5823\n",
            "Epoch: 1\tBatch: 800\tAvg-Loss: 0.5745\n",
            "Epoch: 1\tBatch: 880\tAvg-Loss: 0.5721\n",
            "Epoch: 1\tBatch: 960\tAvg-Loss: 0.5617\n",
            "Epoch: 1\tBatch: 1040\tAvg-Loss: 0.5540\n",
            "Epoch: 1\tBatch: 1120\tAvg-Loss: 0.5655\n",
            "Epoch: 1\tBatch: 1200\tAvg-Loss: 0.5600\n",
            "Epoch: 1\tBatch: 1280\tAvg-Loss: 0.5565\n",
            "Epoch: 1\tBatch: 1360\tAvg-Loss: 0.5595\n",
            "Epoch: 1\tBatch: 1440\tAvg-Loss: 0.5419\n",
            "Epoch: 1\tBatch: 1520\tAvg-Loss: 0.5481\n",
            "Epoch: 1\tBatch: 1600\tAvg-Loss: 0.5461\n",
            "Epoch: 1\tBatch: 1680\tAvg-Loss: 0.5332\n",
            "Epoch: 1\tBatch: 1760\tAvg-Loss: 0.5302\n",
            "Epoch: 1\tBatch: 1840\tAvg-Loss: 0.5203\n",
            "Epoch: 1\tBatch: 1920\tAvg-Loss: 0.5230\n",
            "Epoch: 1\tBatch: 2000\tAvg-Loss: 0.5194\n",
            "Epoch: 1\tBatch: 2080\tAvg-Loss: 0.5120\n",
            "Epoch: 1\tBatch: 2160\tAvg-Loss: 0.5133\n",
            "Epoch: 1\tBatch: 2240\tAvg-Loss: 0.5057\n",
            "Epoch: 1\tBatch: 2320\tAvg-Loss: 0.4960\n",
            "Epoch: 1\tBatch: 2400\tAvg-Loss: 0.5013\n",
            "Epoch: 1\tBatch: 2480\tAvg-Loss: 0.5036\n",
            "Epoch: 1\tBatch: 2560\tAvg-Loss: 0.5022\n",
            "Epoch: 1\tBatch: 2640\tAvg-Loss: 0.4916\n",
            "Epoch: 1\tBatch: 2720\tAvg-Loss: 0.4900\n",
            "Epoch: 1\tBatch: 2800\tAvg-Loss: 0.4842\n",
            "Epoch: 1\tBatch: 2880\tAvg-Loss: 0.4899\n",
            "Epoch: 1\tBatch: 2960\tAvg-Loss: 0.4862\n",
            "LR =  0.1\n",
            "Epoch: 1, Validation Accuracy: 0.4017\n",
            "Epoch: 2\tBatch: 80\tAvg-Loss: 0.3817\n",
            "Epoch: 2\tBatch: 160\tAvg-Loss: 0.3823\n",
            "Epoch: 2\tBatch: 240\tAvg-Loss: 0.3882\n",
            "Epoch: 2\tBatch: 320\tAvg-Loss: 0.3901\n",
            "Epoch: 2\tBatch: 400\tAvg-Loss: 0.3811\n",
            "Epoch: 2\tBatch: 480\tAvg-Loss: 0.3961\n",
            "Epoch: 2\tBatch: 560\tAvg-Loss: 0.4001\n",
            "Epoch: 2\tBatch: 640\tAvg-Loss: 0.3903\n",
            "Epoch: 2\tBatch: 720\tAvg-Loss: 0.3890\n",
            "Epoch: 2\tBatch: 800\tAvg-Loss: 0.3933\n",
            "Epoch: 2\tBatch: 880\tAvg-Loss: 0.3979\n",
            "Epoch: 2\tBatch: 960\tAvg-Loss: 0.3974\n",
            "Epoch: 2\tBatch: 1040\tAvg-Loss: 0.3936\n",
            "Epoch: 2\tBatch: 1120\tAvg-Loss: 0.3858\n",
            "Epoch: 2\tBatch: 1200\tAvg-Loss: 0.3949\n",
            "Epoch: 2\tBatch: 1280\tAvg-Loss: 0.3992\n",
            "Epoch: 2\tBatch: 1360\tAvg-Loss: 0.4014\n",
            "Epoch: 2\tBatch: 1440\tAvg-Loss: 0.3978\n",
            "Epoch: 2\tBatch: 1520\tAvg-Loss: 0.3930\n",
            "Epoch: 2\tBatch: 1600\tAvg-Loss: 0.3898\n",
            "Epoch: 2\tBatch: 1680\tAvg-Loss: 0.3993\n",
            "Epoch: 2\tBatch: 1760\tAvg-Loss: 0.3916\n",
            "Epoch: 2\tBatch: 1840\tAvg-Loss: 0.3890\n",
            "Epoch: 2\tBatch: 1920\tAvg-Loss: 0.3837\n",
            "Epoch: 2\tBatch: 2000\tAvg-Loss: 0.3848\n",
            "Epoch: 2\tBatch: 2080\tAvg-Loss: 0.3743\n",
            "Epoch: 2\tBatch: 2160\tAvg-Loss: 0.3871\n",
            "Epoch: 2\tBatch: 2240\tAvg-Loss: 0.3869\n",
            "Epoch: 2\tBatch: 2320\tAvg-Loss: 0.3845\n",
            "Epoch: 2\tBatch: 2400\tAvg-Loss: 0.3837\n",
            "Epoch: 2\tBatch: 2480\tAvg-Loss: 0.3870\n",
            "Epoch: 2\tBatch: 2560\tAvg-Loss: 0.3896\n",
            "Epoch: 2\tBatch: 2640\tAvg-Loss: 0.3756\n",
            "Epoch: 2\tBatch: 2720\tAvg-Loss: 0.3905\n",
            "Epoch: 2\tBatch: 2800\tAvg-Loss: 0.3791\n",
            "Epoch: 2\tBatch: 2880\tAvg-Loss: 0.3808\n",
            "Epoch: 2\tBatch: 2960\tAvg-Loss: 0.3755\n",
            "LR =  0.1\n",
            "Epoch: 2, Validation Accuracy: 0.4708\n",
            "Epoch: 3\tBatch: 80\tAvg-Loss: 0.2757\n",
            "Epoch: 3\tBatch: 160\tAvg-Loss: 0.2737\n",
            "Epoch: 3\tBatch: 240\tAvg-Loss: 0.2769\n",
            "Epoch: 3\tBatch: 320\tAvg-Loss: 0.2834\n",
            "Epoch: 3\tBatch: 400\tAvg-Loss: 0.2855\n",
            "Epoch: 3\tBatch: 480\tAvg-Loss: 0.2946\n",
            "Epoch: 3\tBatch: 560\tAvg-Loss: 0.2924\n",
            "Epoch: 3\tBatch: 640\tAvg-Loss: 0.3023\n",
            "Epoch: 3\tBatch: 720\tAvg-Loss: 0.2974\n",
            "Epoch: 3\tBatch: 800\tAvg-Loss: 0.3064\n",
            "Epoch: 3\tBatch: 880\tAvg-Loss: 0.3027\n",
            "Epoch: 3\tBatch: 960\tAvg-Loss: 0.2957\n",
            "Epoch: 3\tBatch: 1040\tAvg-Loss: 0.2991\n",
            "Epoch: 3\tBatch: 1120\tAvg-Loss: 0.3078\n",
            "Epoch: 3\tBatch: 1200\tAvg-Loss: 0.3170\n",
            "Epoch: 3\tBatch: 1280\tAvg-Loss: 0.3161\n",
            "Epoch: 3\tBatch: 1360\tAvg-Loss: 0.3135\n",
            "Epoch: 3\tBatch: 1440\tAvg-Loss: 0.3131\n",
            "Epoch: 3\tBatch: 1520\tAvg-Loss: 0.3130\n",
            "Epoch: 3\tBatch: 1600\tAvg-Loss: 0.3152\n",
            "Epoch: 3\tBatch: 1680\tAvg-Loss: 0.3094\n",
            "Epoch: 3\tBatch: 1760\tAvg-Loss: 0.3215\n",
            "Epoch: 3\tBatch: 1840\tAvg-Loss: 0.3129\n",
            "Epoch: 3\tBatch: 1920\tAvg-Loss: 0.3123\n",
            "Epoch: 3\tBatch: 2000\tAvg-Loss: 0.3183\n",
            "Epoch: 3\tBatch: 2080\tAvg-Loss: 0.3148\n",
            "Epoch: 3\tBatch: 2160\tAvg-Loss: 0.3088\n",
            "Epoch: 3\tBatch: 2240\tAvg-Loss: 0.3157\n",
            "Epoch: 3\tBatch: 2320\tAvg-Loss: 0.3178\n",
            "Epoch: 3\tBatch: 2400\tAvg-Loss: 0.3199\n",
            "Epoch: 3\tBatch: 2480\tAvg-Loss: 0.3170\n",
            "Epoch: 3\tBatch: 2560\tAvg-Loss: 0.3206\n",
            "Epoch: 3\tBatch: 2640\tAvg-Loss: 0.3138\n",
            "Epoch: 3\tBatch: 2720\tAvg-Loss: 0.3174\n",
            "Epoch: 3\tBatch: 2800\tAvg-Loss: 0.3229\n",
            "Epoch: 3\tBatch: 2880\tAvg-Loss: 0.3260\n",
            "Epoch: 3\tBatch: 2960\tAvg-Loss: 0.3285\n",
            "LR =  0.1\n",
            "Epoch: 3, Validation Accuracy: 0.5345\n",
            "Epoch: 4\tBatch: 80\tAvg-Loss: 0.2178\n",
            "Epoch: 4\tBatch: 160\tAvg-Loss: 0.2195\n",
            "Epoch: 4\tBatch: 240\tAvg-Loss: 0.2248\n",
            "Epoch: 4\tBatch: 320\tAvg-Loss: 0.2241\n",
            "Epoch: 4\tBatch: 400\tAvg-Loss: 0.2329\n",
            "Epoch: 4\tBatch: 480\tAvg-Loss: 0.2309\n",
            "Epoch: 4\tBatch: 560\tAvg-Loss: 0.2342\n",
            "Epoch: 4\tBatch: 640\tAvg-Loss: 0.2426\n",
            "Epoch: 4\tBatch: 720\tAvg-Loss: 0.2411\n",
            "Epoch: 4\tBatch: 800\tAvg-Loss: 0.2434\n",
            "Epoch: 4\tBatch: 880\tAvg-Loss: 0.2528\n",
            "Epoch: 4\tBatch: 960\tAvg-Loss: 0.2487\n",
            "Epoch: 4\tBatch: 1040\tAvg-Loss: 0.2542\n",
            "Epoch: 4\tBatch: 1120\tAvg-Loss: 0.2470\n",
            "Epoch: 4\tBatch: 1200\tAvg-Loss: 0.2489\n",
            "Epoch: 4\tBatch: 1280\tAvg-Loss: 0.2555\n",
            "Epoch: 4\tBatch: 1360\tAvg-Loss: 0.2574\n",
            "Epoch: 4\tBatch: 1440\tAvg-Loss: 0.2609\n",
            "Epoch: 4\tBatch: 1520\tAvg-Loss: 0.2704\n",
            "Epoch: 4\tBatch: 1600\tAvg-Loss: 0.2614\n",
            "Epoch: 4\tBatch: 1680\tAvg-Loss: 0.2713\n",
            "Epoch: 4\tBatch: 1760\tAvg-Loss: 0.2675\n",
            "Epoch: 4\tBatch: 1840\tAvg-Loss: 0.2705\n",
            "Epoch: 4\tBatch: 1920\tAvg-Loss: 0.2699\n",
            "Epoch: 4\tBatch: 2000\tAvg-Loss: 0.2654\n",
            "Epoch: 4\tBatch: 2080\tAvg-Loss: 0.2687\n",
            "Epoch: 4\tBatch: 2160\tAvg-Loss: 0.2717\n",
            "Epoch: 4\tBatch: 2240\tAvg-Loss: 0.2734\n",
            "Epoch: 4\tBatch: 2320\tAvg-Loss: 0.2697\n",
            "Epoch: 4\tBatch: 2400\tAvg-Loss: 0.2825\n",
            "Epoch: 4\tBatch: 2480\tAvg-Loss: 0.2755\n",
            "Epoch: 4\tBatch: 2560\tAvg-Loss: 0.2804\n",
            "Epoch: 4\tBatch: 2640\tAvg-Loss: 0.2722\n",
            "Epoch: 4\tBatch: 2720\tAvg-Loss: 0.2717\n",
            "Epoch: 4\tBatch: 2800\tAvg-Loss: 0.2828\n",
            "Epoch: 4\tBatch: 2880\tAvg-Loss: 0.2832\n",
            "Epoch: 4\tBatch: 2960\tAvg-Loss: 0.2801\n",
            "LR =  0.1\n",
            "Epoch: 4, Validation Accuracy: 0.5415\n",
            "Epoch: 5\tBatch: 80\tAvg-Loss: 0.1809\n",
            "Epoch: 5\tBatch: 160\tAvg-Loss: 0.1763\n",
            "Epoch: 5\tBatch: 240\tAvg-Loss: 0.1873\n",
            "Epoch: 5\tBatch: 320\tAvg-Loss: 0.1888\n",
            "Epoch: 5\tBatch: 400\tAvg-Loss: 0.1889\n",
            "Epoch: 5\tBatch: 480\tAvg-Loss: 0.1938\n",
            "Epoch: 5\tBatch: 560\tAvg-Loss: 0.1992\n",
            "Epoch: 5\tBatch: 640\tAvg-Loss: 0.2018\n",
            "Epoch: 5\tBatch: 720\tAvg-Loss: 0.2085\n",
            "Epoch: 5\tBatch: 800\tAvg-Loss: 0.2075\n",
            "Epoch: 5\tBatch: 880\tAvg-Loss: 0.2134\n",
            "Epoch: 5\tBatch: 960\tAvg-Loss: 0.2164\n",
            "Epoch: 5\tBatch: 1040\tAvg-Loss: 0.2121\n",
            "Epoch: 5\tBatch: 1120\tAvg-Loss: 0.2181\n",
            "Epoch: 5\tBatch: 1200\tAvg-Loss: 0.2260\n",
            "Epoch: 5\tBatch: 1280\tAvg-Loss: 0.2206\n",
            "Epoch: 5\tBatch: 1360\tAvg-Loss: 0.2237\n",
            "Epoch: 5\tBatch: 1440\tAvg-Loss: 0.2299\n",
            "Epoch: 5\tBatch: 1520\tAvg-Loss: 0.2220\n",
            "Epoch: 5\tBatch: 1600\tAvg-Loss: 0.2227\n",
            "Epoch: 5\tBatch: 1680\tAvg-Loss: 0.2341\n",
            "Epoch: 5\tBatch: 1760\tAvg-Loss: 0.2293\n",
            "Epoch: 5\tBatch: 1840\tAvg-Loss: 0.2351\n",
            "Epoch: 5\tBatch: 1920\tAvg-Loss: 0.2368\n",
            "Epoch: 5\tBatch: 2000\tAvg-Loss: 0.2395\n",
            "Epoch: 5\tBatch: 2080\tAvg-Loss: 0.2421\n",
            "Epoch: 5\tBatch: 2160\tAvg-Loss: 0.2465\n",
            "Epoch: 5\tBatch: 2240\tAvg-Loss: 0.2413\n",
            "Epoch: 5\tBatch: 2320\tAvg-Loss: 0.2467\n",
            "Epoch: 5\tBatch: 2400\tAvg-Loss: 0.2399\n",
            "Epoch: 5\tBatch: 2480\tAvg-Loss: 0.2488\n",
            "Epoch: 5\tBatch: 2560\tAvg-Loss: 0.2432\n",
            "Epoch: 5\tBatch: 2640\tAvg-Loss: 0.2504\n",
            "Epoch: 5\tBatch: 2720\tAvg-Loss: 0.2481\n",
            "Epoch: 5\tBatch: 2800\tAvg-Loss: 0.2457\n",
            "Epoch: 5\tBatch: 2880\tAvg-Loss: 0.2486\n",
            "Epoch: 5\tBatch: 2960\tAvg-Loss: 0.2443\n",
            "LR =  0.1\n",
            "Epoch: 5, Validation Accuracy: 0.5536\n",
            "Epoch: 6\tBatch: 80\tAvg-Loss: 0.1608\n",
            "Epoch: 6\tBatch: 160\tAvg-Loss: 0.1590\n",
            "Epoch: 6\tBatch: 240\tAvg-Loss: 0.1569\n",
            "Epoch: 6\tBatch: 320\tAvg-Loss: 0.1565\n",
            "Epoch: 6\tBatch: 400\tAvg-Loss: 0.1621\n",
            "Epoch: 6\tBatch: 480\tAvg-Loss: 0.1692\n",
            "Epoch: 6\tBatch: 560\tAvg-Loss: 0.1714\n",
            "Epoch: 6\tBatch: 640\tAvg-Loss: 0.1666\n",
            "Epoch: 6\tBatch: 720\tAvg-Loss: 0.1796\n",
            "Epoch: 6\tBatch: 800\tAvg-Loss: 0.1815\n",
            "Epoch: 6\tBatch: 880\tAvg-Loss: 0.1867\n",
            "Epoch: 6\tBatch: 960\tAvg-Loss: 0.1849\n",
            "Epoch: 6\tBatch: 1040\tAvg-Loss: 0.1923\n",
            "Epoch: 6\tBatch: 1120\tAvg-Loss: 0.1955\n",
            "Epoch: 6\tBatch: 1200\tAvg-Loss: 0.1971\n",
            "Epoch: 6\tBatch: 1280\tAvg-Loss: 0.1956\n",
            "Epoch: 6\tBatch: 1360\tAvg-Loss: 0.2027\n",
            "Epoch: 6\tBatch: 1440\tAvg-Loss: 0.2067\n",
            "Epoch: 6\tBatch: 1520\tAvg-Loss: 0.2033\n",
            "Epoch: 6\tBatch: 1600\tAvg-Loss: 0.2164\n",
            "Epoch: 6\tBatch: 1680\tAvg-Loss: 0.2014\n",
            "Epoch: 6\tBatch: 1760\tAvg-Loss: 0.2094\n",
            "Epoch: 6\tBatch: 1840\tAvg-Loss: 0.2055\n",
            "Epoch: 6\tBatch: 1920\tAvg-Loss: 0.2160\n",
            "Epoch: 6\tBatch: 2000\tAvg-Loss: 0.2161\n",
            "Epoch: 6\tBatch: 2080\tAvg-Loss: 0.2205\n",
            "Epoch: 6\tBatch: 2160\tAvg-Loss: 0.2186\n",
            "Epoch: 6\tBatch: 2240\tAvg-Loss: 0.2250\n",
            "Epoch: 6\tBatch: 2320\tAvg-Loss: 0.2151\n",
            "Epoch: 6\tBatch: 2400\tAvg-Loss: 0.2189\n",
            "Epoch: 6\tBatch: 2480\tAvg-Loss: 0.2267\n",
            "Epoch: 6\tBatch: 2560\tAvg-Loss: 0.2264\n",
            "Epoch: 6\tBatch: 2640\tAvg-Loss: 0.2263\n",
            "Epoch: 6\tBatch: 2720\tAvg-Loss: 0.2302\n",
            "Epoch: 6\tBatch: 2800\tAvg-Loss: 0.2333\n",
            "Epoch: 6\tBatch: 2880\tAvg-Loss: 0.2341\n",
            "Epoch: 6\tBatch: 2960\tAvg-Loss: 0.2284\n",
            "LR =  0.1\n",
            "Epoch: 6, Validation Accuracy: 0.5419\n",
            "Epoch: 7\tBatch: 80\tAvg-Loss: 0.1423\n",
            "Epoch: 7\tBatch: 160\tAvg-Loss: 0.1331\n",
            "Epoch: 7\tBatch: 240\tAvg-Loss: 0.1353\n",
            "Epoch: 7\tBatch: 320\tAvg-Loss: 0.1445\n",
            "Epoch: 7\tBatch: 400\tAvg-Loss: 0.1484\n",
            "Epoch: 7\tBatch: 480\tAvg-Loss: 0.1474\n",
            "Epoch: 7\tBatch: 560\tAvg-Loss: 0.1523\n",
            "Epoch: 7\tBatch: 640\tAvg-Loss: 0.1515\n",
            "Epoch: 7\tBatch: 720\tAvg-Loss: 0.1612\n",
            "Epoch: 7\tBatch: 800\tAvg-Loss: 0.1663\n",
            "Epoch: 7\tBatch: 880\tAvg-Loss: 0.1646\n",
            "Epoch: 7\tBatch: 960\tAvg-Loss: 0.1699\n",
            "Epoch: 7\tBatch: 1040\tAvg-Loss: 0.1717\n",
            "Epoch: 7\tBatch: 1120\tAvg-Loss: 0.1741\n",
            "Epoch: 7\tBatch: 1200\tAvg-Loss: 0.1714\n",
            "Epoch: 7\tBatch: 1280\tAvg-Loss: 0.1763\n",
            "Epoch: 7\tBatch: 1360\tAvg-Loss: 0.1848\n",
            "Epoch: 7\tBatch: 1440\tAvg-Loss: 0.1875\n",
            "Epoch: 7\tBatch: 1520\tAvg-Loss: 0.1804\n",
            "Epoch: 7\tBatch: 1600\tAvg-Loss: 0.1905\n",
            "Epoch: 7\tBatch: 1680\tAvg-Loss: 0.1899\n",
            "Epoch: 7\tBatch: 1760\tAvg-Loss: 0.1966\n",
            "Epoch: 7\tBatch: 1840\tAvg-Loss: 0.1916\n",
            "Epoch: 7\tBatch: 1920\tAvg-Loss: 0.1929\n",
            "Epoch: 7\tBatch: 2000\tAvg-Loss: 0.1943\n",
            "Epoch: 7\tBatch: 2080\tAvg-Loss: 0.1980\n",
            "Epoch: 7\tBatch: 2160\tAvg-Loss: 0.1977\n",
            "Epoch: 7\tBatch: 2240\tAvg-Loss: 0.2023\n",
            "Epoch: 7\tBatch: 2320\tAvg-Loss: 0.2048\n",
            "Epoch: 7\tBatch: 2400\tAvg-Loss: 0.2081\n",
            "Epoch: 7\tBatch: 2480\tAvg-Loss: 0.2106\n",
            "Epoch: 7\tBatch: 2560\tAvg-Loss: 0.2097\n",
            "Epoch: 7\tBatch: 2640\tAvg-Loss: 0.2127\n",
            "Epoch: 7\tBatch: 2720\tAvg-Loss: 0.2128\n",
            "Epoch: 7\tBatch: 2800\tAvg-Loss: 0.2076\n",
            "Epoch: 7\tBatch: 2880\tAvg-Loss: 0.2068\n",
            "Epoch: 7\tBatch: 2960\tAvg-Loss: 0.2082\n",
            "LR =  0.1\n",
            "Epoch: 7, Validation Accuracy: 0.5775\n",
            "Epoch: 8\tBatch: 80\tAvg-Loss: 0.1317\n",
            "Epoch: 8\tBatch: 160\tAvg-Loss: 0.1254\n",
            "Epoch: 8\tBatch: 240\tAvg-Loss: 0.1249\n",
            "Epoch: 8\tBatch: 320\tAvg-Loss: 0.1292\n",
            "Epoch: 8\tBatch: 400\tAvg-Loss: 0.1297\n",
            "Epoch: 8\tBatch: 480\tAvg-Loss: 0.1350\n",
            "Epoch: 8\tBatch: 560\tAvg-Loss: 0.1406\n",
            "Epoch: 8\tBatch: 640\tAvg-Loss: 0.1421\n",
            "Epoch: 8\tBatch: 720\tAvg-Loss: 0.1474\n",
            "Epoch: 8\tBatch: 800\tAvg-Loss: 0.1430\n",
            "Epoch: 8\tBatch: 880\tAvg-Loss: 0.1519\n",
            "Epoch: 8\tBatch: 960\tAvg-Loss: 0.1575\n",
            "Epoch: 8\tBatch: 1040\tAvg-Loss: 0.1582\n",
            "Epoch: 8\tBatch: 1120\tAvg-Loss: 0.1606\n",
            "Epoch: 8\tBatch: 1200\tAvg-Loss: 0.1697\n",
            "Epoch: 8\tBatch: 1280\tAvg-Loss: 0.1712\n",
            "Epoch: 8\tBatch: 1360\tAvg-Loss: 0.1732\n",
            "Epoch: 8\tBatch: 1440\tAvg-Loss: 0.1680\n",
            "Epoch: 8\tBatch: 1520\tAvg-Loss: 0.1766\n",
            "Epoch: 8\tBatch: 1600\tAvg-Loss: 0.1740\n",
            "Epoch: 8\tBatch: 1680\tAvg-Loss: 0.1810\n",
            "Epoch: 8\tBatch: 1760\tAvg-Loss: 0.1741\n",
            "Epoch: 8\tBatch: 1840\tAvg-Loss: 0.1781\n",
            "Epoch: 8\tBatch: 1920\tAvg-Loss: 0.1804\n",
            "Epoch: 8\tBatch: 2000\tAvg-Loss: 0.1836\n",
            "Epoch: 8\tBatch: 2080\tAvg-Loss: 0.1877\n",
            "Epoch: 8\tBatch: 2160\tAvg-Loss: 0.1882\n",
            "Epoch: 8\tBatch: 2240\tAvg-Loss: 0.1870\n",
            "Epoch: 8\tBatch: 2320\tAvg-Loss: 0.1908\n",
            "Epoch: 8\tBatch: 2400\tAvg-Loss: 0.1961\n",
            "Epoch: 8\tBatch: 2480\tAvg-Loss: 0.1931\n",
            "Epoch: 8\tBatch: 2560\tAvg-Loss: 0.1983\n",
            "Epoch: 8\tBatch: 2640\tAvg-Loss: 0.1970\n",
            "Epoch: 8\tBatch: 2720\tAvg-Loss: 0.2005\n",
            "Epoch: 8\tBatch: 2800\tAvg-Loss: 0.2044\n",
            "Epoch: 8\tBatch: 2880\tAvg-Loss: 0.1984\n",
            "Epoch: 8\tBatch: 2960\tAvg-Loss: 0.2035\n",
            "LR =  0.1\n",
            "Epoch: 8, Validation Accuracy: 0.5499\n",
            "Epoch: 9\tBatch: 80\tAvg-Loss: 0.1266\n",
            "Epoch: 9\tBatch: 160\tAvg-Loss: 0.1147\n",
            "Epoch: 9\tBatch: 240\tAvg-Loss: 0.1223\n",
            "Epoch: 9\tBatch: 320\tAvg-Loss: 0.1224\n",
            "Epoch: 9\tBatch: 400\tAvg-Loss: 0.1275\n",
            "Epoch: 9\tBatch: 480\tAvg-Loss: 0.1253\n",
            "Epoch: 9\tBatch: 560\tAvg-Loss: 0.1266\n",
            "Epoch: 9\tBatch: 640\tAvg-Loss: 0.1338\n",
            "Epoch: 9\tBatch: 720\tAvg-Loss: 0.1377\n",
            "Epoch: 9\tBatch: 800\tAvg-Loss: 0.1368\n",
            "Epoch: 9\tBatch: 880\tAvg-Loss: 0.1405\n",
            "Epoch: 9\tBatch: 960\tAvg-Loss: 0.1499\n",
            "Epoch: 9\tBatch: 1040\tAvg-Loss: 0.1424\n",
            "Epoch: 9\tBatch: 1120\tAvg-Loss: 0.1488\n",
            "Epoch: 9\tBatch: 1200\tAvg-Loss: 0.1558\n",
            "Epoch: 9\tBatch: 1280\tAvg-Loss: 0.1597\n",
            "Epoch: 9\tBatch: 1360\tAvg-Loss: 0.1617\n",
            "Epoch: 9\tBatch: 1440\tAvg-Loss: 0.1613\n",
            "Epoch: 9\tBatch: 1520\tAvg-Loss: 0.1639\n",
            "Epoch: 9\tBatch: 1600\tAvg-Loss: 0.1652\n",
            "Epoch: 9\tBatch: 1680\tAvg-Loss: 0.1691\n",
            "Epoch: 9\tBatch: 1760\tAvg-Loss: 0.1693\n",
            "Epoch: 9\tBatch: 1840\tAvg-Loss: 0.1787\n",
            "Epoch: 9\tBatch: 1920\tAvg-Loss: 0.1792\n",
            "Epoch: 9\tBatch: 2000\tAvg-Loss: 0.1731\n",
            "Epoch: 9\tBatch: 2080\tAvg-Loss: 0.1827\n",
            "Epoch: 9\tBatch: 2160\tAvg-Loss: 0.1814\n",
            "Epoch: 9\tBatch: 2240\tAvg-Loss: 0.1779\n",
            "Epoch: 9\tBatch: 2320\tAvg-Loss: 0.1771\n",
            "Epoch: 9\tBatch: 2400\tAvg-Loss: 0.1794\n",
            "Epoch: 9\tBatch: 2480\tAvg-Loss: 0.1842\n",
            "Epoch: 9\tBatch: 2560\tAvg-Loss: 0.1844\n",
            "Epoch: 9\tBatch: 2640\tAvg-Loss: 0.1937\n",
            "Epoch: 9\tBatch: 2720\tAvg-Loss: 0.1928\n",
            "Epoch: 9\tBatch: 2800\tAvg-Loss: 0.1915\n",
            "Epoch: 9\tBatch: 2880\tAvg-Loss: 0.1947\n",
            "Epoch: 9\tBatch: 2960\tAvg-Loss: 0.1936\n",
            "Epoch    10: reducing learning rate of group 0 to 9.0000e-02.\n",
            "LR =  0.09000000000000001\n",
            "Epoch: 9, Validation Accuracy: 0.5461\n",
            "Epoch: 10\tBatch: 80\tAvg-Loss: 0.1110\n",
            "Epoch: 10\tBatch: 160\tAvg-Loss: 0.0991\n",
            "Epoch: 10\tBatch: 240\tAvg-Loss: 0.0932\n",
            "Epoch: 10\tBatch: 320\tAvg-Loss: 0.0994\n",
            "Epoch: 10\tBatch: 400\tAvg-Loss: 0.1020\n",
            "Epoch: 10\tBatch: 480\tAvg-Loss: 0.1000\n",
            "Epoch: 10\tBatch: 560\tAvg-Loss: 0.0984\n",
            "Epoch: 10\tBatch: 640\tAvg-Loss: 0.1049\n",
            "Epoch: 10\tBatch: 720\tAvg-Loss: 0.1092\n",
            "Epoch: 10\tBatch: 800\tAvg-Loss: 0.1116\n",
            "Epoch: 10\tBatch: 880\tAvg-Loss: 0.1085\n",
            "Epoch: 10\tBatch: 960\tAvg-Loss: 0.1134\n",
            "Epoch: 10\tBatch: 1040\tAvg-Loss: 0.1149\n"
          ]
        }
      ]
    },
    {
      "cell_type": "code",
      "metadata": {
        "id": "vvDbqMuJjLJX"
      },
      "source": [
        "class TestDataset(Dataset):\n",
        "    def __init__(self, file_list):\n",
        "        self.file_list = file_list\n",
        "        self.target_list = target_list\n",
        "        self.n_class = len(list(set(target_list)))\n",
        "\n",
        "    def __len__(self):\n",
        "        return len(self.file_list)\n",
        "\n",
        "    def __getitem__(self, index):\n",
        "        img = Image.open(self.file_list[index])\n",
        "        img = torchvision.transforms.ToTensor()(img)\n",
        "        img = torchvision.transforms.Normalize(mean= (0.485, 0.456, 0.406), std= (0.229, 0.224, 0.225))(img)\n",
        "        label = self.target_list[index]\n",
        "        return img"
      ],
      "execution_count": null,
      "outputs": []
    },
    {
      "cell_type": "code",
      "metadata": {
        "id": "NSTBhdLIEgYG"
      },
      "source": [
        "def parse_data(datadir):\n",
        "    ID_list = []\n",
        "    for root, directories, filenames in os.walk(datadir):\n",
        "        img_list = [] * len(filenames)\n",
        "        for filename in filenames:\n",
        "            if filename.endswith('.jpg'):\n",
        "                filei = os.path.join(root, filename)\n",
        "                index = int(filename.split('.')[0])\n",
        "                img_list[index] = filei\n",
        "    \n",
        "    # construct a dictionary, where key and value correspond to ID and target\n",
        "    uniqueID_list = sorted(list(set(ID_list)))\n",
        "    class_n = len(uniqueID_list)\n",
        "    target_dict = dict(zip(uniqueID_list, range(class_n)))\n",
        "    label_list = [target_dict[ID_key] for ID_key in ID_list]\n",
        "    return img_list"
      ],
      "execution_count": null,
      "outputs": []
    },
    {
      "cell_type": "code",
      "metadata": {
        "id": "DXpdPVLrEjia"
      },
      "source": [
        "imageFolder_dataset = torchvision.datasets.ImageFolder(root='/content/main/train_data', \n",
        "                                                       transform=torchvision.transforms.Compose([\n",
        "                                                torchvision.transforms.ToTensor(),\n",
        "                                                torchvision.transforms.Normalize(\n",
        "                                                      mean=[0.485, 0.456, 0.406],\n",
        "                                                      std=[0.229, 0.224, 0.225],\n",
        "                                                  )\n",
        "                                                ]))"
      ],
      "execution_count": null,
      "outputs": []
    },
    {
      "cell_type": "code",
      "metadata": {
        "id": "c54D3PsPqn9X"
      },
      "source": [
        "file_list = parse_data('/content/main/test_data')\n",
        "test_dataset = TestDataset(file_list)\n",
        "test_loader = DataLoader(test_dataset, batch_size=128, shuffle=False, num_workers=8)"
      ],
      "execution_count": null,
      "outputs": []
    },
    {
      "cell_type": "code",
      "metadata": {
        "id": "tazWw6k1qs8q"
      },
      "source": [
        "network.eval()\n",
        "predictions = np.array([]*test_dataset.__len__())\n",
        "counter = 0\n",
        "reverse_dict = {\n",
        "    value : key for key, value in imageFolder_dataset.class_to_idx.items()\n",
        "}\n",
        "\n",
        "for batch_num, x in enumerate(test_dataloader):\n",
        "    x = x.to(device)\n",
        "    outputs = network(x)\n",
        "    \n",
        "    pred_labels = torch.argmax(outputs, axis=1)\n",
        "    pred_labels = pred_labels.view(-1)\n",
        "    temp = pred_labels.to('cpu').numpy()\n",
        "    \n",
        "    for idx, value in enumerate(temp):\n",
        "      temp[idx] = reverse_dict[value]\n",
        "\n",
        "    predictions.append(int(temp))"
      ],
      "execution_count": null,
      "outputs": []
    },
    {
      "cell_type": "code",
      "metadata": {
        "id": "W7tEHIWWvZhh"
      },
      "source": [
        "df = pd.DataFrame(predictions.astype(int), columns = ['label'])\n",
        "df.index.name = 'id'\n",
        "df.index = df.index.astype(str) + '.jpg'\n",
        "df.to_csv(\"/content/drive/MyDrive/IDL-Kaggle/hw2/submission.csv\")"
      ],
      "execution_count": null,
      "outputs": []
    },
    {
      "cell_type": "code",
      "metadata": {
        "id": "njoDqIlRJSDf"
      },
      "source": [
        "class TestDataset(Dataset):\n",
        "    def __init__(self, file_list):\n",
        "        self.file_list = file_list\n",
        "    def __len__(self):\n",
        "        return len(self.file_list)\n",
        "\n",
        "    def __getitem__(self, index):\n",
        "        img = Image.open(self.file_list[index])\n",
        "        img = torchvision.transforms.ToTensor()(img)\n",
        "        img = torchvision.transforms.Normalize(mean= (0.485, 0.456, 0.406), std= (0.229, 0.224, 0.225))(img)\n",
        "        return img"
      ],
      "execution_count": null,
      "outputs": []
    },
    {
      "cell_type": "code",
      "metadata": {
        "id": "2v4dMbwmJYjz"
      },
      "source": [
        "def parse_data(datadir):\n",
        "    ID_list = []\n",
        "    for root, directories, filenames in os.walk(datadir):\n",
        "        img_list = []*len(filenames)\n",
        "        for filename in filenames:\n",
        "            if filename.endswith('.jpg'):\n",
        "                filei = os.path.join(root, filename)\n",
        "                number = int(filename.split('.')[0])\n",
        "                img_list[number] = filei\n",
        "    uniqueID_list = sorted(list(set(ID_list)))\n",
        "    class_n = len(uniqueID_list)\n",
        "    target_dict = dict(zip(uniqueID_list, range(class_n)))\n",
        "    label_list = [target_dict[ID_key] for ID_key in ID_list]\n",
        "    return img_list"
      ],
      "execution_count": null,
      "outputs": []
    },
    {
      "cell_type": "code",
      "metadata": {
        "id": "Gx5Y95uONkvh"
      },
      "source": [
        "file_list = parse_data('/content/main/verification/verification_data')\n",
        "test_dataset = TestDataset(file_list)\n",
        "verification_loader = DataLoader(test_dataset, batch_size=128, shuffle=False, num_workers=8)"
      ],
      "execution_count": null,
      "outputs": []
    },
    {
      "cell_type": "code",
      "metadata": {
        "id": "qOtmTmZtN6CM"
      },
      "source": [
        "network.eval()\n",
        "embeddings = []\n",
        "for batch_num, (feats) in enumerate(verification_loader):\n",
        "    feats = feats.to(device)\n",
        "    network = network.to(device)\n",
        "    feature = network(feats)\n",
        "    feature = feature.to(\"cpu\").detach().numpy()\n",
        "    for i in feature:\n",
        "        embeddings.append(i)"
      ],
      "execution_count": null,
      "outputs": []
    },
    {
      "cell_type": "code",
      "metadata": {
        "id": "Dm02-AyOFZ0w"
      },
      "source": [
        "# Create Validation ROC\n",
        "compute_sim = nn.CosineSimilarity(0)\n",
        "verf_val_predictions = []\n",
        "true_labels = []\n",
        "\n",
        "# print(len(embeddings))\n",
        "\n",
        "# Now we need to use these features to make predictions\n",
        "# open verification_pairs_val.txt\n",
        "f = open('/content/main/verification/verification_pairs_val.txt', 'r')\n",
        "for line in f:\n",
        "    line = line.strip().split(' ')\n",
        "    image1, image2, label = line.split(' ')\n",
        "    true_labels.append(int(label))\n",
        "    embedding1 = torch.tensor(embeddings[int(images[0].split('/')[1].split('.')[0])])\n",
        "    embedding2 = torch.tensor(embeddings[int(images[1].split('/')[1].split('.')[0])])\n",
        "    verf_val_predictions.append(compute_sim(embedding1, embedding2).item())\n"
      ],
      "execution_count": null,
      "outputs": []
    },
    {
      "cell_type": "code",
      "metadata": {
        "id": "BHztkS-8Fj33"
      },
      "source": [
        "network.eval()\n",
        "compute_sim = nn.CosineSimilarity(0)\n",
        "verf_predictions = []\n",
        "f = open('/content/main/verification/verification_pairs_test.txt', 'r')\n",
        "for line in f:\n",
        "    line = line.strip()\n",
        "    images = line.split(' ')\n",
        "    image1, image2 = images[0], images[1]embedding1 = torch.tensor(embeddings[int(images[0].split('/')[1].split('.')[0])])\n",
        "    embedding2 = torch.tensor(embeddings[int(images[1].split('/')[1].split('.')[0])])\n",
        "    output = compute_sim(embedding1, embedding2).item() \n",
        "    verf_predictions.append((line, output))"
      ],
      "execution_count": null,
      "outputs": []
    },
    {
      "cell_type": "code",
      "metadata": {
        "id": "hthRy3MDQ43O"
      },
      "source": [
        "df = pd.DataFrame(verf_predictions, columns = ['id','Category'])\n",
        "df.to_csv(\"/content/drive/MyDrive/IDL-Kaggle/hw2/face_verification_test_results/submission_verif.csv\",index=False)"
      ],
      "execution_count": null,
      "outputs": []
    }
  ]
}
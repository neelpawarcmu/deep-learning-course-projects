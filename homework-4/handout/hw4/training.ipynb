{
  "cells": [
    {
      "cell_type": "code",
      "execution_count": 58,
      "metadata": {
        "id": "BZ9rFdlHHKwk"
      },
      "outputs": [],
      "source": [
        "%matplotlib inline\n",
        "\n",
        "import numpy as np\n",
        "from matplotlib import pyplot as plt\n",
        "import time\n",
        "import os\n",
        "import torch\n",
        "import torch.nn as nn\n",
        "from torch.autograd import Variable\n",
        "from torch.utils.data import Dataset, DataLoader\n",
        "from tests import test_prediction, test_generation"
      ]
    },
    {
      "cell_type": "code",
      "execution_count": 59,
      "metadata": {
        "id": "8cRGLoGqHLYW"
      },
      "outputs": [],
      "source": [
        "# load all that we need\n",
        "\n",
        "dataset = np.load('../dataset/wiki.train.npy', allow_pickle=True)\n",
        "devset = np.load('../dataset/wiki.valid.npy', allow_pickle=True)\n",
        "fixtures_pred = np.load('../fixtures/prediction.npz')  # dev\n",
        "fixtures_gen = np.load('../fixtures/generation.npy')  # dev\n",
        "fixtures_pred_test = np.load('../fixtures/prediction_test.npz')  # test\n",
        "fixtures_gen_test = np.load('../fixtures/generation_test.npy')  # test\n",
        "vocab = np.load('../dataset/vocab.npy')"
      ]
    },
    {
      "cell_type": "code",
      "execution_count": 60,
      "metadata": {
        "id": "P5XxkKabK9GN"
      },
      "outputs": [],
      "source": [
        "# set device as per system\n",
        "device = torch.device(\"cuda\" if torch.cuda.is_available() else \"cpu\")"
      ]
    },
    {
      "cell_type": "code",
      "execution_count": 61,
      "metadata": {
        "colab": {
          "base_uri": "https://localhost:8080/"
        },
        "id": "Q97xXlHUHQj3",
        "outputId": "b569b417-9860-42b7-eddc-009d9a3fa911"
      },
      "outputs": [
        {
          "data": {
            "text/plain": [
              "<generator object LanguageModelDataLoader.__iter__ at 0x7f79c86de050>"
            ]
          },
          "execution_count": 61,
          "metadata": {},
          "output_type": "execute_result"
        }
      ],
      "source": [
        "# data loader\n",
        "\n",
        "\n",
        "class LanguageModelDataLoader(DataLoader):\n",
        "    \"\"\"\n",
        "        TODO: Define data loader logic here\n",
        "    \"\"\"\n",
        "    def __init__(self, dataset, batch_size, shuffle=True):\n",
        "        self.dataset, self.batch_size, self.shuffle = dataset, batch_size, shuffle \n",
        "\n",
        "    def __iter__(self):\n",
        "        # concatenate dataset articles into single string\n",
        "        # dataset shape: (579,), dataset[0].shape: (3803,)\n",
        "        concatenate_string = np.concatenate(self.dataset) # concatenated shape: (2075677,)\n",
        "        \n",
        "        # generate input, output sequences eg: I ate an apple -> inp_seq: I ate an, out_seq: ate an apple\n",
        "        # (also convert to torch tensors)\n",
        "        input_sequence = torch.as_tensor(concatenate_string[:-1]) # first element to second last element \n",
        "        output_sequence = torch.as_tensor(concatenate_string[1:]) # second element to last element\n",
        "\n",
        "        # calculate excess length while batching and truncate it off\n",
        "        excess_length = len(input_sequence)%self.batch_size\n",
        "        truncated_length = len(input_sequence) - excess_length\n",
        "        input_sequence, output_sequence = input_sequence[:truncated_length], output_sequence[:truncated_length]\n",
        "\n",
        "        # convert to long tensors\n",
        "        input_sequence, output_sequence = (input_sequence).type(torch.LongTensor), (output_sequence).type(torch.LongTensor)\n",
        "\n",
        "\n",
        "        # batch the input and output sequences\n",
        "        num_batches = truncated_length // self.batch_size\n",
        "        input_sequence = input_sequence.reshape(self.batch_size, num_batches)\n",
        "        output_sequence = output_sequence.reshape(self.batch_size, num_batches)\n",
        "        # print(f'input sequence: {input_sequence.shape} \\noutput sequence: {output_sequence.shape}')\n",
        "\n",
        "        # YIELD single batch of input, output for each batch (since we are designing an iter)\n",
        "        prev = curr = 0 # current index for indexing data from sequences\n",
        "        while curr < num_batches:\n",
        "            # random BPTT length, https://arxiv.org/pdf/1708.02182.pdf section 5\n",
        "            bptt_length = self.random_length()\n",
        "            prev = curr\n",
        "            curr += bptt_length\n",
        "            yield input_sequence[:, prev:curr], output_sequence[:, prev:curr]\n",
        "\n",
        "\n",
        "    # random BPTT length, https://arxiv.org/pdf/1708.02182.pdf section 5\n",
        "    def random_length(self):\n",
        "        random_probability = np.random.random_sample()\n",
        "        if random_probability > 0.95:\n",
        "            bptt_length = np.random.normal(70, 5)\n",
        "        else:\n",
        "            bptt_length = np.random.normal(35, 5)\n",
        "        return round(bptt_length) #round off so we have integers\n",
        "\n",
        "\n",
        "        \n",
        "# test code\n",
        "loader = LanguageModelDataLoader(dataset=dataset, batch_size=60, shuffle=True)\n",
        "loader.__iter__()\n",
        "# print(f'x:{x.shape}, y:{y.shape}')"
      ]
    },
    {
      "cell_type": "code",
      "execution_count": 62,
      "metadata": {
        "colab": {
          "base_uri": "https://localhost:8080/"
        },
        "id": "bSvPe4aUHRyu",
        "outputId": "792169e3-0eea-4ca1-f8c5-8e81ba52d9b3"
      },
      "outputs": [
        {
          "name": "stdout",
          "output_type": "stream",
          "text": [
            "LanguageModel(\n",
            "  (embedding): Embedding(33278, 400)\n",
            "  (lstm): LSTM(400, 1150, num_layers=3, batch_first=True)\n",
            "  (linear): Linear(in_features=1150, out_features=33278, bias=True)\n",
            ")\n"
          ]
        }
      ],
      "source": [
        "# model\n",
        "\n",
        "class LanguageModel(nn.Module):\n",
        "    \"\"\"\n",
        "        TODO: Define your model here\n",
        "    \"\"\"\n",
        "    def __init__(self, vocab_size):\n",
        "        super(LanguageModel, self).__init__()\n",
        "        # embedding size = 400 (https://arxiv.org/pdf/1708.02182.pdf section 5)\n",
        "        self.embedding = nn.Embedding(num_embeddings = vocab_size, embedding_dim = 400) # simple lookup table that stores embeddings of a fixed dictionary and size\n",
        "        # hidden size = 1150 (https://arxiv.org/pdf/1708.02182.pdf section 5)\n",
        "        self.lstm = nn.LSTM(input_size=400, hidden_size=1150, num_layers=3, batch_first=True)\n",
        "        # linear output = vocabulary size\n",
        "        self.linear = nn.Linear(in_features=1150, out_features=vocab_size)\n",
        "\n",
        "    def forward(self, x, hiddens=None):\n",
        "        # Feel free to add extra arguments to forward (like an argument to pass in the hiddens)\n",
        "        # embedding\n",
        "        embeddings = self.embedding(x) \n",
        "        # lstm / rnn\n",
        "        out, hiddens = self.lstm(embeddings, hiddens) if hiddens else self.lstm(embeddings) #operate on hidden states only if they are available\n",
        "        # linear\n",
        "        out = self.linear(out) \n",
        "        return out, hiddens\n",
        "\n",
        "model = LanguageModel(len(vocab))\n",
        "print(model)"
      ]
    },
    {
      "cell_type": "code",
      "execution_count": 63,
      "metadata": {
        "id": "2gs1TOJ8SJfa"
      },
      "outputs": [],
      "source": [
        "# model hyperparameters\n",
        "LEARNING_RATE = 1e-3\n",
        "WEIGHT_DECAY = 1e-6"
      ]
    },
    {
      "cell_type": "code",
      "execution_count": 64,
      "metadata": {
        "id": "0GGpyogEHdgD"
      },
      "outputs": [],
      "source": [
        "# model trainer\n",
        "import time \n",
        "\n",
        "class LanguageModelTrainer:\n",
        "    def __init__(self, model, loader, max_epochs=1, run_id='exp'):\n",
        "        \"\"\"\n",
        "            Use this class to train your model\n",
        "        \"\"\"\n",
        "        # feel free to add any other parameters here\n",
        "        self.model = model\n",
        "        self.loader = loader\n",
        "        self.train_losses = []\n",
        "        self.val_losses = []\n",
        "        self.predictions = []\n",
        "        self.predictions_test = []\n",
        "        self.generated_logits = []\n",
        "        self.generated = []\n",
        "        self.generated_logits_test = []\n",
        "        self.generated_test = []\n",
        "        self.epochs = 0\n",
        "        self.max_epochs = max_epochs\n",
        "        self.run_id = run_id\n",
        "        \n",
        "        # TODO: Define your optimizer and criterion here\n",
        "        self.optimizer = torch.optim.Adam(model.parameters(), lr=LEARNING_RATE, weight_decay=WEIGHT_DECAY) #\n",
        "        self.criterion = nn.CrossEntropyLoss()\n",
        "\n",
        "    def train(self):\n",
        "        self.model.train() # set to training mode\n",
        "        epoch_loss = 0\n",
        "        num_batches = 0\n",
        "        start_time = time.time()\n",
        "        for batch_num, (inputs, targets) in enumerate(self.loader):\n",
        "            if batch_num % 50 == 0:\n",
        "                print(f'batch : {batch_num} \\ttotal time elapsed : {round(time.time()-start_time, 2)} sec')\n",
        "            epoch_loss += self.train_batch(inputs, targets)\n",
        "        epoch_loss = epoch_loss / (batch_num + 1)\n",
        "        self.epochs += 1\n",
        "        print('[TRAIN]  Epoch [%d/%d]   Loss: %.4f'\n",
        "                      % (self.epochs + 1, self.max_epochs, epoch_loss))\n",
        "        print(f'time taken = {round((time.time()-start_time)/60, 2)} min')\n",
        "        self.train_losses.append(epoch_loss)\n",
        "\n",
        "    def train_batch(self, inputs, targets):\n",
        "        \"\"\" \n",
        "            TODO: Define code for training a single batch of inputs\n",
        "        \n",
        "        \"\"\"\n",
        "        # initialize and move to the active device (make sure everything (inputs, model, outputs, targets) on same device)\n",
        "        self.optimizer.zero_grad()\n",
        "        inputs = inputs.to(device)\n",
        "        targets = targets.to(device)\n",
        "\n",
        "        # get output from model\n",
        "        outputs, _ = self.model(inputs)\n",
        "\n",
        "        # reshape outputs and targets\n",
        "        outputs = outputs.reshape(-1, outputs.shape[2])\n",
        "        targets = targets.reshape(-1)\n",
        "        \n",
        "        # judge quality of output against the target using loss function\n",
        "        loss = self.criterion(outputs, targets)\n",
        "        \n",
        "        # optimize weights\n",
        "        loss.backward()\n",
        "        self.optimizer.step()\n",
        "        return loss\n",
        "\n",
        "    \n",
        "    def test(self):\n",
        "        # don't change these\n",
        "        self.model.eval() # set to eval mode\n",
        "        predictions = TestLanguageModel.prediction(fixtures_pred['inp'], self.model) # get predictions\n",
        "        self.predictions.append(predictions)\n",
        "        generated_logits = TestLanguageModel.generation(fixtures_gen, 10, self.model) # generated predictions for 10 words\n",
        "        generated_logits_test = TestLanguageModel.generation(fixtures_gen_test, 10, self.model)\n",
        "        nll = test_prediction(predictions, fixtures_pred['out'])\n",
        "        generated = test_generation(fixtures_gen, generated_logits, vocab)\n",
        "        generated_test = test_generation(fixtures_gen_test, generated_logits_test, vocab)\n",
        "        self.val_losses.append(nll)\n",
        "        \n",
        "        self.generated.append(generated)\n",
        "        self.generated_test.append(generated_test)\n",
        "        self.generated_logits.append(generated_logits)\n",
        "        self.generated_logits_test.append(generated_logits_test)\n",
        "        \n",
        "        # generate predictions for test data\n",
        "        predictions_test = TestLanguageModel.prediction(fixtures_pred_test['inp'], self.model) # get predictions\n",
        "        self.predictions_test.append(predictions_test)\n",
        "            \n",
        "        print('[VAL]  Epoch [%d/%d]   Loss: %.4f'\n",
        "                      % (self.epochs + 1, self.max_epochs, nll))\n",
        "        print('='*60)\n",
        "        return nll\n",
        "\n",
        "    def save(self):\n",
        "        # don't change these\n",
        "        model_path = os.path.join('experiments', self.run_id, 'model-{}.pkl'.format(self.epochs))\n",
        "        torch.save({'state_dict': self.model.state_dict()},\n",
        "            model_path)\n",
        "        np.save(os.path.join('experiments', self.run_id, 'predictions-{}.npy'.format(self.epochs)), self.predictions[-1])\n",
        "        np.save(os.path.join('experiments', self.run_id, 'predictions-test-{}.npy'.format(self.epochs)), self.predictions_test[-1])\n",
        "        np.save(os.path.join('experiments', self.run_id, 'generated_logits-{}.npy'.format(self.epochs)), self.generated_logits[-1])\n",
        "        np.save(os.path.join('experiments', self.run_id, 'generated_logits-test-{}.npy'.format(self.epochs)), self.generated_logits_test[-1])\n",
        "        with open(os.path.join('experiments', self.run_id, 'generated-{}.txt'.format(self.epochs)), 'w') as fw:\n",
        "            fw.write(self.generated[-1])\n",
        "        with open(os.path.join('experiments', self.run_id, 'generated-{}-test.txt'.format(self.epochs)), 'w') as fw:\n",
        "            fw.write(self.generated_test[-1])\n"
      ]
    },
    {
      "cell_type": "code",
      "execution_count": 65,
      "metadata": {
        "id": "dmyEd8K9Hgkx"
      },
      "outputs": [],
      "source": [
        "class TestLanguageModel:\n",
        "    def prediction(inp, model):\n",
        "        \"\"\"\n",
        "            TODO: write prediction code here\n",
        "            \n",
        "            :param inp:\n",
        "            :return: a np.ndarray of logits\n",
        "        \"\"\"\n",
        "        # every input across notebook needs to be converted to long tensor\n",
        "        # convert inputs to long tensor\n",
        "        inp = torch.LongTensor(inp)\n",
        "        # move to active device \n",
        "        inp = inp.to(device)\n",
        "        # get model output\n",
        "        out, out_lengths = model(inp)\n",
        "        out = out[:, -1]\n",
        "\n",
        "        # detatch logits array from tensor\n",
        "        predictions = out.cpu().detach().numpy()\n",
        "        return predictions\n",
        "\n",
        "        \n",
        "    def generation(inp, forward, model):\n",
        "        \"\"\"\n",
        "            TODO: write generation code here\n",
        "\n",
        "            Generate a sequence of words given a starting sequence.\n",
        "            :param inp: Initial sequence of words (batch size, length)\n",
        "            :param forward: number of additional words to generate\n",
        "            :return: generated words (batch size, forward)\n",
        "        \"\"\"         \n",
        "        model.eval()\n",
        "        with torch.no_grad():\n",
        "            result = [] # array of strings of length = forward\n",
        "            # change to long type\n",
        "            inp = torch.LongTensor(inp)\n",
        "            # move inputs to device\n",
        "            inp = inp.to(device)\n",
        "            hidden = None\n",
        "            for i in range(forward):\n",
        "                out, hidden = model(inp, hidden) if hidden else model(inp) # pass in hidden input only if available\n",
        "                predictions = torch.argmax(out, dim=2) \n",
        "                predictions = predictions[:,-1]\n",
        "                inp = predictions.unsqueeze(1)\n",
        "                result.append(inp)\n",
        "        # concatenate result shape\n",
        "        result = torch.cat(result, dim=1)\n",
        "\n",
        "        # detatch words array from tensor\n",
        "        result = result.cpu().detach().numpy()        \n",
        "        return result"
      ]
    },
    {
      "cell_type": "code",
      "execution_count": 66,
      "metadata": {
        "id": "mT8MrAVtHi2E"
      },
      "outputs": [],
      "source": [
        "# TODO: define other hyperparameters here\n",
        "\n",
        "NUM_EPOCHS = 6 # based on writeup\n",
        "BATCH_SIZE = 80 # based on https://arxiv.org/pdf/1708.02182.pdf section 5"
      ]
    },
    {
      "cell_type": "code",
      "execution_count": 67,
      "metadata": {
        "colab": {
          "base_uri": "https://localhost:8080/"
        },
        "id": "kAvo1G2BHkyA",
        "outputId": "d98e63c0-7d02-416e-ebd5-01d17bf4938a"
      },
      "outputs": [
        {
          "name": "stdout",
          "output_type": "stream",
          "text": [
            "Saving models, predictions, and generated words to ./experiments/1639367590\n"
          ]
        }
      ],
      "source": [
        "run_id = str(int(time.time()))\n",
        "if not os.path.exists('./experiments'):\n",
        "    os.mkdir('./experiments')\n",
        "os.mkdir('./experiments/%s' % run_id)\n",
        "print(\"Saving models, predictions, and generated words to ./experiments/%s\" % run_id)"
      ]
    },
    {
      "cell_type": "code",
      "execution_count": 68,
      "metadata": {
        "id": "VKFNviGiHp3-"
      },
      "outputs": [],
      "source": [
        "loader = LanguageModelDataLoader(dataset=dataset, batch_size=BATCH_SIZE, shuffle=True)\n",
        "model = LanguageModel(len(vocab))\n",
        "model = model.to(device)\n",
        "trainer = LanguageModelTrainer(model=model, loader=loader, max_epochs=NUM_EPOCHS, run_id=run_id)"
      ]
    },
    {
      "cell_type": "code",
      "execution_count": 69,
      "metadata": {
        "colab": {
          "base_uri": "https://localhost:8080/"
        },
        "id": "AfyIBZZjVwRX",
        "outputId": "bf9f77e3-7c32-40f7-ec72-06ab6964a02a"
      },
      "outputs": [
        {
          "name": "stdout",
          "output_type": "stream",
          "text": [
            "length of dataloader = 579\n"
          ]
        }
      ],
      "source": [
        "print(f'length of dataloader = {len(loader.dataset)}')"
      ]
    },
    {
      "cell_type": "code",
      "execution_count": 70,
      "metadata": {
        "colab": {
          "base_uri": "https://localhost:8080/"
        },
        "id": "SgBADfNZHqfq",
        "outputId": "479330fb-630a-432b-951b-cfd7bd478585"
      },
      "outputs": [
        {
          "name": "stdout",
          "output_type": "stream",
          "text": [
            "batch : 0 \ttotal time elapsed : 0.01 sec\n",
            "batch : 50 \ttotal time elapsed : 36.66 sec\n",
            "batch : 100 \ttotal time elapsed : 72.51 sec\n",
            "batch : 150 \ttotal time elapsed : 110.1 sec\n",
            "batch : 200 \ttotal time elapsed : 148.35 sec\n",
            "batch : 250 \ttotal time elapsed : 185.83 sec\n",
            "batch : 300 \ttotal time elapsed : 223.14 sec\n",
            "batch : 350 \ttotal time elapsed : 260.06 sec\n",
            "batch : 400 \ttotal time elapsed : 297.58 sec\n",
            "batch : 450 \ttotal time elapsed : 336.45 sec\n",
            "batch : 500 \ttotal time elapsed : 374.18 sec\n",
            "batch : 550 \ttotal time elapsed : 411.69 sec\n",
            "batch : 600 \ttotal time elapsed : 449.06 sec\n",
            "batch : 650 \ttotal time elapsed : 487.18 sec\n",
            "batch : 700 \ttotal time elapsed : 522.77 sec\n",
            "[TRAIN]  Epoch [2/6]   Loss: 7.0571\n",
            "time taken = 8.82 min\n",
            "[VAL]  Epoch [2/6]   Loss: 6.0492\n",
            "============================================================\n",
            "Saving model, predictions and generated output for epoch 0 with NLL: 6.0492325\n",
            "batch : 0 \ttotal time elapsed : 0.01 sec\n",
            "batch : 50 \ttotal time elapsed : 35.89 sec\n",
            "batch : 100 \ttotal time elapsed : 71.38 sec\n",
            "batch : 150 \ttotal time elapsed : 110.11 sec\n",
            "batch : 200 \ttotal time elapsed : 147.03 sec\n",
            "batch : 250 \ttotal time elapsed : 183.21 sec\n",
            "batch : 300 \ttotal time elapsed : 222.18 sec\n",
            "batch : 350 \ttotal time elapsed : 258.09 sec\n",
            "batch : 400 \ttotal time elapsed : 296.98 sec\n",
            "batch : 450 \ttotal time elapsed : 332.88 sec\n",
            "batch : 500 \ttotal time elapsed : 371.07 sec\n",
            "batch : 550 \ttotal time elapsed : 411.36 sec\n",
            "batch : 600 \ttotal time elapsed : 447.67 sec\n",
            "batch : 650 \ttotal time elapsed : 484.13 sec\n",
            "batch : 700 \ttotal time elapsed : 522.34 sec\n",
            "[TRAIN]  Epoch [3/6]   Loss: 6.0887\n",
            "time taken = 8.89 min\n",
            "[VAL]  Epoch [3/6]   Loss: 5.3978\n",
            "============================================================\n",
            "Saving model, predictions and generated output for epoch 1 with NLL: 5.3978324\n",
            "batch : 0 \ttotal time elapsed : 0.01 sec\n",
            "batch : 50 \ttotal time elapsed : 35.69 sec\n",
            "batch : 100 \ttotal time elapsed : 75.32 sec\n",
            "batch : 150 \ttotal time elapsed : 112.77 sec\n",
            "batch : 200 \ttotal time elapsed : 153.2 sec\n",
            "batch : 250 \ttotal time elapsed : 189.04 sec\n",
            "batch : 300 \ttotal time elapsed : 227.48 sec\n",
            "batch : 350 \ttotal time elapsed : 265.19 sec\n",
            "batch : 400 \ttotal time elapsed : 302.24 sec\n",
            "batch : 450 \ttotal time elapsed : 339.02 sec\n",
            "batch : 500 \ttotal time elapsed : 375.52 sec\n",
            "batch : 550 \ttotal time elapsed : 413.91 sec\n",
            "batch : 600 \ttotal time elapsed : 452.38 sec\n",
            "batch : 650 \ttotal time elapsed : 490.48 sec\n",
            "batch : 700 \ttotal time elapsed : 527.54 sec\n",
            "[TRAIN]  Epoch [4/6]   Loss: 5.6062\n",
            "time taken = 8.91 min\n",
            "[VAL]  Epoch [4/6]   Loss: 5.1104\n",
            "============================================================\n",
            "Saving model, predictions and generated output for epoch 2 with NLL: 5.1104355\n",
            "batch : 0 \ttotal time elapsed : 0.01 sec\n",
            "batch : 50 \ttotal time elapsed : 37.61 sec\n",
            "batch : 100 \ttotal time elapsed : 74.1 sec\n",
            "batch : 150 \ttotal time elapsed : 110.2 sec\n",
            "batch : 200 \ttotal time elapsed : 146.28 sec\n",
            "batch : 250 \ttotal time elapsed : 185.97 sec\n",
            "batch : 300 \ttotal time elapsed : 225.17 sec\n",
            "batch : 350 \ttotal time elapsed : 261.75 sec\n",
            "batch : 400 \ttotal time elapsed : 299.92 sec\n",
            "batch : 450 \ttotal time elapsed : 337.8 sec\n",
            "batch : 500 \ttotal time elapsed : 375.47 sec\n",
            "batch : 550 \ttotal time elapsed : 411.98 sec\n",
            "batch : 600 \ttotal time elapsed : 449.38 sec\n",
            "batch : 650 \ttotal time elapsed : 487.5 sec\n",
            "batch : 700 \ttotal time elapsed : 524.16 sec\n",
            "[TRAIN]  Epoch [5/6]   Loss: 5.3117\n",
            "time taken = 8.91 min\n",
            "[VAL]  Epoch [5/6]   Loss: 4.9230\n",
            "============================================================\n",
            "Saving model, predictions and generated output for epoch 3 with NLL: 4.9229994\n",
            "batch : 0 \ttotal time elapsed : 0.02 sec\n",
            "batch : 50 \ttotal time elapsed : 35.93 sec\n",
            "batch : 100 \ttotal time elapsed : 74.17 sec\n",
            "batch : 150 \ttotal time elapsed : 112.52 sec\n",
            "batch : 200 \ttotal time elapsed : 150.6 sec\n",
            "batch : 250 \ttotal time elapsed : 187.91 sec\n",
            "batch : 300 \ttotal time elapsed : 224.61 sec\n",
            "batch : 350 \ttotal time elapsed : 261.76 sec\n",
            "batch : 400 \ttotal time elapsed : 298.24 sec\n",
            "batch : 450 \ttotal time elapsed : 336.18 sec\n",
            "batch : 500 \ttotal time elapsed : 376.71 sec\n",
            "batch : 550 \ttotal time elapsed : 413.5 sec\n",
            "batch : 600 \ttotal time elapsed : 452.56 sec\n",
            "batch : 650 \ttotal time elapsed : 490.82 sec\n",
            "batch : 700 \ttotal time elapsed : 528.43 sec\n",
            "[TRAIN]  Epoch [6/6]   Loss: 5.0796\n",
            "time taken = 8.91 min\n",
            "[VAL]  Epoch [6/6]   Loss: 4.8226\n",
            "============================================================\n",
            "Saving model, predictions and generated output for epoch 4 with NLL: 4.8226085\n",
            "batch : 0 \ttotal time elapsed : 0.01 sec\n",
            "batch : 50 \ttotal time elapsed : 36.94 sec\n",
            "batch : 100 \ttotal time elapsed : 76.4 sec\n",
            "batch : 150 \ttotal time elapsed : 115.09 sec\n",
            "batch : 200 \ttotal time elapsed : 151.03 sec\n",
            "batch : 250 \ttotal time elapsed : 186.18 sec\n",
            "batch : 300 \ttotal time elapsed : 223.17 sec\n",
            "batch : 350 \ttotal time elapsed : 260.28 sec\n",
            "batch : 400 \ttotal time elapsed : 298.29 sec\n",
            "batch : 450 \ttotal time elapsed : 337.95 sec\n",
            "batch : 500 \ttotal time elapsed : 372.83 sec\n",
            "batch : 550 \ttotal time elapsed : 410.3 sec\n",
            "batch : 600 \ttotal time elapsed : 448.71 sec\n",
            "batch : 650 \ttotal time elapsed : 486.15 sec\n",
            "batch : 700 \ttotal time elapsed : 524.1 sec\n",
            "[TRAIN]  Epoch [7/6]   Loss: 4.8873\n",
            "time taken = 8.99 min\n",
            "[VAL]  Epoch [7/6]   Loss: 4.7296\n",
            "============================================================\n",
            "Saving model, predictions and generated output for epoch 5 with NLL: 4.7295513\n"
          ]
        }
      ],
      "source": [
        "best_nll = 1e30\n",
        "for epoch in range(NUM_EPOCHS):\n",
        "    trainer.train()\n",
        "    nll = trainer.test()\n",
        "    if nll < best_nll:\n",
        "        best_nll = nll\n",
        "        print(\"Saving model, predictions and generated output for epoch \"+str(epoch)+\" with NLL: \"+ str(best_nll))\n",
        "        trainer.save()"
      ]
    },
    {
      "cell_type": "code",
      "execution_count": 72,
      "metadata": {
        "colab": {
          "base_uri": "https://localhost:8080/",
          "height": 278
        },
        "id": "ZmkKZPMOI7HP",
        "outputId": "d6391f31-21e3-4685-93c3-a70f32c93a59"
      },
      "outputs": [
        {
          "data": {
            "image/png": "[encoded data removed]",
            "text/plain": [
              "<Figure size 432x288 with 1 Axes>"
            ]
          },
          "metadata": {
            "needs_background": "light"
          },
          "output_type": "display_data"
        }
      ],
      "source": [
        "# Don't change these\n",
        "# plot training curves\n",
        "plt.figure()\n",
        "plt.plot(range(1, trainer.epochs + 1), trainer.train_losses, label='Training losses')\n",
        "plt.plot(range(1, trainer.epochs + 1), trainer.val_losses, label='Validation losses')\n",
        "plt.xlabel('Epochs')\n",
        "plt.ylabel('NLL')\n",
        "plt.legend()\n",
        "plt.show()"
      ]
    },
    {
      "cell_type": "code",
      "execution_count": 73,
      "metadata": {
        "colab": {
          "base_uri": "https://localhost:8080/"
        },
        "id": "sLj7xl9nI-m8",
        "outputId": "e7ac11e4-f100-4890-a6d3-303aa5d94166"
      },
      "outputs": [
        {
          "name": "stdout",
          "output_type": "stream",
          "text": [
            "Input | Output #0: while the group was en route , but only three were ultimately able to attack . None of them were | not damaged , and the ship was completed . <eol>\n",
            "Input | Output #1: <unk> , where he remained on loan until 30 June 2010 . <eol> = = = Return to Manchester United | = = = <eol> = = = <unk> = =\n",
            "Input | Output #2: 25 April 2013 , denoting shipments of 500 @,@ 000 copies . <eol> The song became One Direction 's fourth | single , and the first single in the United States\n",
            "Input | Output #3: , and Bruce R. ) one daughter ( Wendy J. <unk> ) and two grandchildren , died in <unk> , | <unk> , and the <unk> of the <unk> <unk> <unk>\n",
            "Input | Output #4: Warrior were examples of this type . Because their armor was so heavy , they could only carry a single | <unk> . <eol> = = = <unk> = = =\n",
            "Input | Output #5: the embassy at 1 : 49 and landed on Guam at 2 : 23 ; twenty minutes later , Ambassador | in the United States . <eol> = = = <unk>\n",
            "Input | Output #6: <unk> , $ 96 million USD ) . Damage was heaviest in South Korea , notably where it moved ashore | . The ship was completed in the United States in\n",
            "Input | Output #7: The <unk> were condemned as <unk> by <unk> , who saw the riots as hampering attempts to resolve the situation | . <eol> = = = <unk> = = = <eol>\n",
            "Input | Output #8: by a decision made by the War Office in mid @-@ 1941 , as it was considering the equipment to | be the first @-@ time field of the two .\n",
            "Input | Output #9: Division crossed the <unk> at a number of places and climbed the hills quietly toward the 9th Infantry river line | . <eol> = = = <unk> = = = <eol>\n",
            "Input | Output #10: = <eol> = = = French VIII . Corps ( Corps <unk> ) = = = <eol> On 6 November | , the route was completed in the United States in\n",
            "Input | Output #11: of the World from 9th Avenue \" . This is regarded as his most famous work . It is considered | to be a <unk> of the <unk> of the <unk>\n",
            "Input | Output #12: — <unk> @-@ 10 , <unk> @-@ 12 , <unk> @-@ 16 , <unk> @-@ 17 — were all converted | to the village . The ship was completed in the\n",
            "Input | Output #13: And now he has . \" <eol> = = Family = = <eol> <unk> lived 37 of his years in | the United States , and the first of the two\n",
            "Input | Output #14: Hell to which he has been condemned for <unk> . Eliot , in a letter to John <unk> dated 27 | December , was the first of the most important of\n",
            "Input | Output #15: Luoyang area , fulfilling his duties in domestic affairs . <eol> In the autumn of <unk> , he met Li | <unk> , who was appointed the \" <unk> \" and\n",
            "Input | Output #16: Power said they enjoyed Block Ball and its number of stages , but wondered how its eight <unk> of memory | was not to be the most popular . \" <eol>\n",
            "Input | Output #17: by Lloyd F. Lonergan . The cameraman was Jacques <unk> . <eol> = = Release and reception = = <eol> | = = = <unk> = = = <eol> The film\n",
            "Input | Output #18: alone , the Austrians lost more than half their reserve artillery park , 6 @,@ 000 ( out of 8 | ) and the <unk> <unk> ( <unk> ) . The\n",
            "Input | Output #19: while attacking a ship at <unk> in the Dutch East Indies ; the loss was compounded by the fact that | the war was not to be the <unk> of the\n",
            "Input | Output #20: first raised in 2007 by the member of parliament ( MP ) for <unk> . The gangsters may have run | to the <unk> of the <unk> . The <unk> is\n",
            "Input | Output #21: Species are also non @-@ spiny <unk> and includes both large trees with stout stems up to 30 metres ( | 0 @.@ 5 in ) . <eol> = = =\n",
            "Input | Output #22: \" : specific design issues with the building 's energy efficiency included the fact that the largest room in the | world is not a <unk> . \" <eol> = =\n",
            "Input | Output #23: were reported to support over 300 @,@ 000 households in the Brazilian state of <unk> in 2005 , and in | the early 19th century , the kakapo was also used\n",
            "Input | Output #24: port . <unk> in Vietnam also warned for the potential of heavy rainfall due to the dissipating Tropical Depression <unk> | . The ship was completed in the United States in\n",
            "Input | Output #25: T @-@ numbers in their tropical cyclone products . The following example is from discussion number 3 of Tropical Depression | <unk> of the <unk> <unk> <unk> ( <unk> ) ,\n",
            "Input | Output #26: South Australia hosted the three @-@ game semi @-@ final series against the New South Wales <unk> . Both teams | were also named the song 's first career in the\n",
            "Input | Output #27: Perth from contention and secured the last finals spot for the <unk> . <eol> = = = Statistical leaders = | = = <eol> = = = <unk> = = =\n",
            "Input | Output #28: deemed it an \" amazing pop song \" , lauding the group 's falsetto and its \" head @-@ <unk> | \" . <eol> = = = <unk> = = =\n",
            "Input | Output #29: , but began patrolling the English Channel after <unk> @-@ 6 pioneered a route past British <unk> nets and mines | in the village of <unk> . The ship was completed\n",
            "Input | Output #30: production executives to let him direct . He had already discussed the film with <unk> and Cohen , and felt | that the song was \" <unk> \" . <eol> =\n",
            "Input | Output #31: and Nick <unk> at Studio <unk> in Los Angeles , California , and was released on August 1 , 2006 | . <eol> = = = <unk> = = = <eol>\n",
            "\n"
          ]
        }
      ],
      "source": [
        "# see generated output\n",
        "print (trainer.generated[-1]) # get last generated output"
      ]
    }
  ],
  "metadata": {
    "accelerator": "GPU",
    "colab": {
      "collapsed_sections": [],
      "name": "neel_hw4p1.ipynb",
      "provenance": []
    },
    "kernelspec": {
      "display_name": "Python 3",
      "name": "python3"
    },
    "language_info": {
      "name": "python"
    }
  },
  "nbformat": 4,
  "nbformat_minor": 0
}
